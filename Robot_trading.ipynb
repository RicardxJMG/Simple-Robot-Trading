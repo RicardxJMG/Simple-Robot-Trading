{
  "cells": [
    {
      "cell_type": "markdown",
      "metadata": {
        "id": "view-in-github",
        "colab_type": "text"
      },
      "source": [
        "<a href=\"https://colab.research.google.com/github/RicardxJMG/Simple-Robot-Trading/blob/main/Robot_trading.ipynb\" target=\"_parent\"><img src=\"https://colab.research.google.com/assets/colab-badge.svg\" alt=\"Open In Colab\"/></a>"
      ]
    },
    {
      "cell_type": "markdown",
      "metadata": {
        "id": "I8I6zkmj82TP"
      },
      "source": [
        "# **1. Configuración del ambiente**"
      ]
    },
    {
      "cell_type": "code",
      "execution_count": null,
      "metadata": {
        "id": "mFr_5eh59XBk"
      },
      "outputs": [],
      "source": [
        "import pandas as pd\n",
        "import numpy as np\n",
        "import matplotlib.pyplot as plt\n",
        "import requests\n",
        "import yfinance as yf\n",
        "from bs4 import BeautifulSoup as bs\n",
        "# from datetime import date, timedelta"
      ]
    },
    {
      "cell_type": "markdown",
      "metadata": {
        "id": "j6X90ILU9XOX"
      },
      "source": [
        "# **2. Obtención de los datos**"
      ]
    },
    {
      "cell_type": "markdown",
      "metadata": {
        "id": "vvl2INv-rSdk"
      },
      "source": [
        "## **2.1 Precios Historicos del Bitcoin**"
      ]
    },
    {
      "cell_type": "markdown",
      "metadata": {
        "id": "xvUtvBsnxEtQ"
      },
      "source": [
        "Se cargarán los precios (en dólares ) históricos del Bitcoin en de los últimos 7 días en un intervalo de 5 minutos."
      ]
    },
    {
      "cell_type": "code",
      "execution_count": null,
      "metadata": {
        "id": "HGrbOiAp9XTH"
      },
      "outputs": [],
      "source": [
        "# Obteniendo datos historicos del Bitcoin\n",
        "def dataframe_bitcoin() -> pd.DataFrame():\n",
        "  return yf.download('BTC-USD', period= '7d', interval='5m')"
      ]
    },
    {
      "cell_type": "code",
      "execution_count": null,
      "metadata": {
        "colab": {
          "base_uri": "https://localhost:8080/",
          "height": 324
        },
        "id": "jWXSktNpN13L",
        "outputId": "b5e79a7d-d347-4a34-fede-41885baa810a"
      },
      "outputs": [
        {
          "output_type": "stream",
          "name": "stderr",
          "text": [
            "/tmp/ipython-input-2-2938597639.py:3: FutureWarning: YF.download() has changed argument auto_adjust default to True\n",
            "  return yf.download('BTC-USD', period= '7d', interval='5m')\n",
            "[*********************100%***********************]  1 of 1 completed\n"
          ]
        },
        {
          "output_type": "execute_result",
          "data": {
            "text/plain": [
              "Price                              Close           High            Low  \\\n",
              "Ticker                           BTC-USD        BTC-USD        BTC-USD   \n",
              "Datetime                                                                 \n",
              "2025-07-10 00:00:00+00:00  111337.906250  111337.906250  111301.765625   \n",
              "2025-07-10 00:05:00+00:00  111329.656250  111336.882812  111321.742188   \n",
              "2025-07-10 00:10:00+00:00  111334.250000  111334.250000  111306.421875   \n",
              "2025-07-10 00:15:00+00:00  111315.187500  111346.734375  111302.601562   \n",
              "2025-07-10 00:20:00+00:00  111256.757812  111316.609375  111247.585938   \n",
              "\n",
              "Price                               Open     Volume  \n",
              "Ticker                           BTC-USD    BTC-USD  \n",
              "Datetime                                             \n",
              "2025-07-10 00:00:00+00:00  111301.765625          0  \n",
              "2025-07-10 00:05:00+00:00  111321.742188   79646720  \n",
              "2025-07-10 00:10:00+00:00  111324.523438          0  \n",
              "2025-07-10 00:15:00+00:00  111346.734375  168644608  \n",
              "2025-07-10 00:20:00+00:00  111316.609375   15126528  "
            ],
            "text/html": [
              "\n",
              "  <div id=\"df-0d438faa-e9e2-4ed9-bc51-1984e176cb45\" class=\"colab-df-container\">\n",
              "    <div>\n",
              "<style scoped>\n",
              "    .dataframe tbody tr th:only-of-type {\n",
              "        vertical-align: middle;\n",
              "    }\n",
              "\n",
              "    .dataframe tbody tr th {\n",
              "        vertical-align: top;\n",
              "    }\n",
              "\n",
              "    .dataframe thead tr th {\n",
              "        text-align: left;\n",
              "    }\n",
              "\n",
              "    .dataframe thead tr:last-of-type th {\n",
              "        text-align: right;\n",
              "    }\n",
              "</style>\n",
              "<table border=\"1\" class=\"dataframe\">\n",
              "  <thead>\n",
              "    <tr>\n",
              "      <th>Price</th>\n",
              "      <th>Close</th>\n",
              "      <th>High</th>\n",
              "      <th>Low</th>\n",
              "      <th>Open</th>\n",
              "      <th>Volume</th>\n",
              "    </tr>\n",
              "    <tr>\n",
              "      <th>Ticker</th>\n",
              "      <th>BTC-USD</th>\n",
              "      <th>BTC-USD</th>\n",
              "      <th>BTC-USD</th>\n",
              "      <th>BTC-USD</th>\n",
              "      <th>BTC-USD</th>\n",
              "    </tr>\n",
              "    <tr>\n",
              "      <th>Datetime</th>\n",
              "      <th></th>\n",
              "      <th></th>\n",
              "      <th></th>\n",
              "      <th></th>\n",
              "      <th></th>\n",
              "    </tr>\n",
              "  </thead>\n",
              "  <tbody>\n",
              "    <tr>\n",
              "      <th>2025-07-10 00:00:00+00:00</th>\n",
              "      <td>111337.906250</td>\n",
              "      <td>111337.906250</td>\n",
              "      <td>111301.765625</td>\n",
              "      <td>111301.765625</td>\n",
              "      <td>0</td>\n",
              "    </tr>\n",
              "    <tr>\n",
              "      <th>2025-07-10 00:05:00+00:00</th>\n",
              "      <td>111329.656250</td>\n",
              "      <td>111336.882812</td>\n",
              "      <td>111321.742188</td>\n",
              "      <td>111321.742188</td>\n",
              "      <td>79646720</td>\n",
              "    </tr>\n",
              "    <tr>\n",
              "      <th>2025-07-10 00:10:00+00:00</th>\n",
              "      <td>111334.250000</td>\n",
              "      <td>111334.250000</td>\n",
              "      <td>111306.421875</td>\n",
              "      <td>111324.523438</td>\n",
              "      <td>0</td>\n",
              "    </tr>\n",
              "    <tr>\n",
              "      <th>2025-07-10 00:15:00+00:00</th>\n",
              "      <td>111315.187500</td>\n",
              "      <td>111346.734375</td>\n",
              "      <td>111302.601562</td>\n",
              "      <td>111346.734375</td>\n",
              "      <td>168644608</td>\n",
              "    </tr>\n",
              "    <tr>\n",
              "      <th>2025-07-10 00:20:00+00:00</th>\n",
              "      <td>111256.757812</td>\n",
              "      <td>111316.609375</td>\n",
              "      <td>111247.585938</td>\n",
              "      <td>111316.609375</td>\n",
              "      <td>15126528</td>\n",
              "    </tr>\n",
              "  </tbody>\n",
              "</table>\n",
              "</div>\n",
              "    <div class=\"colab-df-buttons\">\n",
              "\n",
              "  <div class=\"colab-df-container\">\n",
              "    <button class=\"colab-df-convert\" onclick=\"convertToInteractive('df-0d438faa-e9e2-4ed9-bc51-1984e176cb45')\"\n",
              "            title=\"Convert this dataframe to an interactive table.\"\n",
              "            style=\"display:none;\">\n",
              "\n",
              "  <svg xmlns=\"http://www.w3.org/2000/svg\" height=\"24px\" viewBox=\"0 -960 960 960\">\n",
              "    <path d=\"M120-120v-720h720v720H120Zm60-500h600v-160H180v160Zm220 220h160v-160H400v160Zm0 220h160v-160H400v160ZM180-400h160v-160H180v160Zm440 0h160v-160H620v160ZM180-180h160v-160H180v160Zm440 0h160v-160H620v160Z\"/>\n",
              "  </svg>\n",
              "    </button>\n",
              "\n",
              "  <style>\n",
              "    .colab-df-container {\n",
              "      display:flex;\n",
              "      gap: 12px;\n",
              "    }\n",
              "\n",
              "    .colab-df-convert {\n",
              "      background-color: #E8F0FE;\n",
              "      border: none;\n",
              "      border-radius: 50%;\n",
              "      cursor: pointer;\n",
              "      display: none;\n",
              "      fill: #1967D2;\n",
              "      height: 32px;\n",
              "      padding: 0 0 0 0;\n",
              "      width: 32px;\n",
              "    }\n",
              "\n",
              "    .colab-df-convert:hover {\n",
              "      background-color: #E2EBFA;\n",
              "      box-shadow: 0px 1px 2px rgba(60, 64, 67, 0.3), 0px 1px 3px 1px rgba(60, 64, 67, 0.15);\n",
              "      fill: #174EA6;\n",
              "    }\n",
              "\n",
              "    .colab-df-buttons div {\n",
              "      margin-bottom: 4px;\n",
              "    }\n",
              "\n",
              "    [theme=dark] .colab-df-convert {\n",
              "      background-color: #3B4455;\n",
              "      fill: #D2E3FC;\n",
              "    }\n",
              "\n",
              "    [theme=dark] .colab-df-convert:hover {\n",
              "      background-color: #434B5C;\n",
              "      box-shadow: 0px 1px 3px 1px rgba(0, 0, 0, 0.15);\n",
              "      filter: drop-shadow(0px 1px 2px rgba(0, 0, 0, 0.3));\n",
              "      fill: #FFFFFF;\n",
              "    }\n",
              "  </style>\n",
              "\n",
              "    <script>\n",
              "      const buttonEl =\n",
              "        document.querySelector('#df-0d438faa-e9e2-4ed9-bc51-1984e176cb45 button.colab-df-convert');\n",
              "      buttonEl.style.display =\n",
              "        google.colab.kernel.accessAllowed ? 'block' : 'none';\n",
              "\n",
              "      async function convertToInteractive(key) {\n",
              "        const element = document.querySelector('#df-0d438faa-e9e2-4ed9-bc51-1984e176cb45');\n",
              "        const dataTable =\n",
              "          await google.colab.kernel.invokeFunction('convertToInteractive',\n",
              "                                                    [key], {});\n",
              "        if (!dataTable) return;\n",
              "\n",
              "        const docLinkHtml = 'Like what you see? Visit the ' +\n",
              "          '<a target=\"_blank\" href=https://colab.research.google.com/notebooks/data_table.ipynb>data table notebook</a>'\n",
              "          + ' to learn more about interactive tables.';\n",
              "        element.innerHTML = '';\n",
              "        dataTable['output_type'] = 'display_data';\n",
              "        await google.colab.output.renderOutput(dataTable, element);\n",
              "        const docLink = document.createElement('div');\n",
              "        docLink.innerHTML = docLinkHtml;\n",
              "        element.appendChild(docLink);\n",
              "      }\n",
              "    </script>\n",
              "  </div>\n",
              "\n",
              "\n",
              "    <div id=\"df-bc02b46b-b8bc-4ef8-ac24-86e91c675a2b\">\n",
              "      <button class=\"colab-df-quickchart\" onclick=\"quickchart('df-bc02b46b-b8bc-4ef8-ac24-86e91c675a2b')\"\n",
              "                title=\"Suggest charts\"\n",
              "                style=\"display:none;\">\n",
              "\n",
              "<svg xmlns=\"http://www.w3.org/2000/svg\" height=\"24px\"viewBox=\"0 0 24 24\"\n",
              "     width=\"24px\">\n",
              "    <g>\n",
              "        <path d=\"M19 3H5c-1.1 0-2 .9-2 2v14c0 1.1.9 2 2 2h14c1.1 0 2-.9 2-2V5c0-1.1-.9-2-2-2zM9 17H7v-7h2v7zm4 0h-2V7h2v10zm4 0h-2v-4h2v4z\"/>\n",
              "    </g>\n",
              "</svg>\n",
              "      </button>\n",
              "\n",
              "<style>\n",
              "  .colab-df-quickchart {\n",
              "      --bg-color: #E8F0FE;\n",
              "      --fill-color: #1967D2;\n",
              "      --hover-bg-color: #E2EBFA;\n",
              "      --hover-fill-color: #174EA6;\n",
              "      --disabled-fill-color: #AAA;\n",
              "      --disabled-bg-color: #DDD;\n",
              "  }\n",
              "\n",
              "  [theme=dark] .colab-df-quickchart {\n",
              "      --bg-color: #3B4455;\n",
              "      --fill-color: #D2E3FC;\n",
              "      --hover-bg-color: #434B5C;\n",
              "      --hover-fill-color: #FFFFFF;\n",
              "      --disabled-bg-color: #3B4455;\n",
              "      --disabled-fill-color: #666;\n",
              "  }\n",
              "\n",
              "  .colab-df-quickchart {\n",
              "    background-color: var(--bg-color);\n",
              "    border: none;\n",
              "    border-radius: 50%;\n",
              "    cursor: pointer;\n",
              "    display: none;\n",
              "    fill: var(--fill-color);\n",
              "    height: 32px;\n",
              "    padding: 0;\n",
              "    width: 32px;\n",
              "  }\n",
              "\n",
              "  .colab-df-quickchart:hover {\n",
              "    background-color: var(--hover-bg-color);\n",
              "    box-shadow: 0 1px 2px rgba(60, 64, 67, 0.3), 0 1px 3px 1px rgba(60, 64, 67, 0.15);\n",
              "    fill: var(--button-hover-fill-color);\n",
              "  }\n",
              "\n",
              "  .colab-df-quickchart-complete:disabled,\n",
              "  .colab-df-quickchart-complete:disabled:hover {\n",
              "    background-color: var(--disabled-bg-color);\n",
              "    fill: var(--disabled-fill-color);\n",
              "    box-shadow: none;\n",
              "  }\n",
              "\n",
              "  .colab-df-spinner {\n",
              "    border: 2px solid var(--fill-color);\n",
              "    border-color: transparent;\n",
              "    border-bottom-color: var(--fill-color);\n",
              "    animation:\n",
              "      spin 1s steps(1) infinite;\n",
              "  }\n",
              "\n",
              "  @keyframes spin {\n",
              "    0% {\n",
              "      border-color: transparent;\n",
              "      border-bottom-color: var(--fill-color);\n",
              "      border-left-color: var(--fill-color);\n",
              "    }\n",
              "    20% {\n",
              "      border-color: transparent;\n",
              "      border-left-color: var(--fill-color);\n",
              "      border-top-color: var(--fill-color);\n",
              "    }\n",
              "    30% {\n",
              "      border-color: transparent;\n",
              "      border-left-color: var(--fill-color);\n",
              "      border-top-color: var(--fill-color);\n",
              "      border-right-color: var(--fill-color);\n",
              "    }\n",
              "    40% {\n",
              "      border-color: transparent;\n",
              "      border-right-color: var(--fill-color);\n",
              "      border-top-color: var(--fill-color);\n",
              "    }\n",
              "    60% {\n",
              "      border-color: transparent;\n",
              "      border-right-color: var(--fill-color);\n",
              "    }\n",
              "    80% {\n",
              "      border-color: transparent;\n",
              "      border-right-color: var(--fill-color);\n",
              "      border-bottom-color: var(--fill-color);\n",
              "    }\n",
              "    90% {\n",
              "      border-color: transparent;\n",
              "      border-bottom-color: var(--fill-color);\n",
              "    }\n",
              "  }\n",
              "</style>\n",
              "\n",
              "      <script>\n",
              "        async function quickchart(key) {\n",
              "          const quickchartButtonEl =\n",
              "            document.querySelector('#' + key + ' button');\n",
              "          quickchartButtonEl.disabled = true;  // To prevent multiple clicks.\n",
              "          quickchartButtonEl.classList.add('colab-df-spinner');\n",
              "          try {\n",
              "            const charts = await google.colab.kernel.invokeFunction(\n",
              "                'suggestCharts', [key], {});\n",
              "          } catch (error) {\n",
              "            console.error('Error during call to suggestCharts:', error);\n",
              "          }\n",
              "          quickchartButtonEl.classList.remove('colab-df-spinner');\n",
              "          quickchartButtonEl.classList.add('colab-df-quickchart-complete');\n",
              "        }\n",
              "        (() => {\n",
              "          let quickchartButtonEl =\n",
              "            document.querySelector('#df-bc02b46b-b8bc-4ef8-ac24-86e91c675a2b button');\n",
              "          quickchartButtonEl.style.display =\n",
              "            google.colab.kernel.accessAllowed ? 'block' : 'none';\n",
              "        })();\n",
              "      </script>\n",
              "    </div>\n",
              "\n",
              "    </div>\n",
              "  </div>\n"
            ],
            "application/vnd.google.colaboratory.intrinsic+json": {
              "type": "dataframe",
              "variable_name": "df_bitcoin",
              "summary": "{\n  \"name\": \"df_bitcoin\",\n  \"rows\": 1810,\n  \"fields\": [\n    {\n      \"column\": [\n        \"Datetime\",\n        \"\"\n      ],\n      \"properties\": {\n        \"dtype\": \"date\",\n        \"min\": \"2025-07-10 00:00:00+00:00\",\n        \"max\": \"2025-07-16 06:45:00+00:00\",\n        \"num_unique_values\": 1810,\n        \"samples\": [\n          \"2025-07-14 18:10:00+00:00\",\n          \"2025-07-10 05:25:00+00:00\",\n          \"2025-07-14 11:25:00+00:00\"\n        ],\n        \"semantic_type\": \"\",\n        \"description\": \"\"\n      }\n    },\n    {\n      \"column\": [\n        \"Close\",\n        \"BTC-USD\"\n      ],\n      \"properties\": {\n        \"dtype\": \"number\",\n        \"std\": 2679.9933707344167,\n        \"min\": 110670.671875,\n        \"max\": 123036.46875,\n        \"num_unique_values\": 1806,\n        \"samples\": [\n          119779.0546875,\n          111063.8125,\n          118101.1953125\n        ],\n        \"semantic_type\": \"\",\n        \"description\": \"\"\n      }\n    },\n    {\n      \"column\": [\n        \"High\",\n        \"BTC-USD\"\n      ],\n      \"properties\": {\n        \"dtype\": \"number\",\n        \"std\": 2685.7372544067453,\n        \"min\": 110801.6953125,\n        \"max\": 123077.6328125,\n        \"num_unique_values\": 1808,\n        \"samples\": [\n          117593.1640625,\n          111063.8125,\n          118118.28125\n        ],\n        \"semantic_type\": \"\",\n        \"description\": \"\"\n      }\n    },\n    {\n      \"column\": [\n        \"Low\",\n        \"BTC-USD\"\n      ],\n      \"properties\": {\n        \"dtype\": \"number\",\n        \"std\": 2676.3087897099904,\n        \"min\": 110670.671875,\n        \"max\": 122940.1796875,\n        \"num_unique_values\": 1808,\n        \"samples\": [\n          117108.3828125,\n          111002.8046875,\n          118096.40625\n        ],\n        \"semantic_type\": \"\",\n        \"description\": \"\"\n      }\n    },\n    {\n      \"column\": [\n        \"Open\",\n        \"BTC-USD\"\n      ],\n      \"properties\": {\n        \"dtype\": \"number\",\n        \"std\": 2682.4290684448015,\n        \"min\": 110761.0703125,\n        \"max\": 122944.7734375,\n        \"num_unique_values\": 1808,\n        \"samples\": [\n          117593.1640625,\n          111002.8046875,\n          118094.296875\n        ],\n        \"semantic_type\": \"\",\n        \"description\": \"\"\n      }\n    },\n    {\n      \"column\": [\n        \"Volume\",\n        \"BTC-USD\"\n      ],\n      \"properties\": {\n        \"dtype\": \"number\",\n        \"std\": 1378223685,\n        \"min\": 0,\n        \"max\": 31402790912,\n        \"num_unique_values\": 913,\n        \"samples\": [\n          321282048,\n          154992640,\n          916041728\n        ],\n        \"semantic_type\": \"\",\n        \"description\": \"\"\n      }\n    }\n  ]\n}"
            }
          },
          "metadata": {},
          "execution_count": 3
        }
      ],
      "source": [
        "df_bitcoin = dataframe_bitcoin()\n",
        "df_bitcoin.head(5)"
      ]
    },
    {
      "cell_type": "markdown",
      "metadata": {
        "id": "E0sOXqr42uC4"
      },
      "source": [
        "Para entender mejor el contenido del dataframe:\n",
        "* **Datetime:** Es el índice del dataframe, y contiene la fecha y hora del intervalo seleccionado, no puede estar duplicado.\n",
        "* **Open:** Contiene el precio del Bitcoin al inicio del intervalo.\n",
        "* **High:** Contiene el precio más alto del Bitcoin durante el intervalo.\n",
        "* **Low:** Contiene el precio más bajo del Bitcoin durante el intervalo.\n",
        "* **Close:** Contiene el precio del Bitcoin al final del intervalo.\n",
        "* **Volume:** Contiene el total de transacciones hechas durante el intervalo.\n",
        "\n"
      ]
    },
    {
      "cell_type": "markdown",
      "metadata": {
        "id": "Im8dTzSYNUOa"
      },
      "source": [
        "## **2.2 Extrayendo precio actual y tendencia del Bitcoin.**"
      ]
    },
    {
      "cell_type": "markdown",
      "source": [
        "Para conocer el precio real y la tendencia de BitCoin, nos basaremos en los datos de la página de [CoinMarketCap](https://coinmarketcap.com/)"
      ],
      "metadata": {
        "id": "1XAcdtifVK95"
      }
    },
    {
      "cell_type": "code",
      "execution_count": null,
      "metadata": {
        "id": "oxat6DUmrqL1"
      },
      "outputs": [],
      "source": [
        "def extraer_tendencias() -> tuple[float, str]:\n",
        "  precio_actual: float = 0\n",
        "  tendencia: str = \"\"\n",
        "\n",
        "  url: str = 'https://coinmarketcap.com/'\n",
        "\n",
        "  respuesta = requests.get(url)\n",
        "\n",
        "  if respuesta.status_code == 200:\n",
        "    s: bs = bs(respuesta.text, 'html.parser')\n",
        "    #Obteniendo los span de la primera fila de la tabla de coinmarketcap.com\n",
        "    html_row = s.find_all(\"tbody\")[0]\n",
        "\n",
        "    cripto_row = html_row.find(\"a\", href=\"/currencies/bitcoin/\").find_parent(\"tr\").find_all(\"td\")\n",
        "    #  el tercer indice contiene el prcio actual de la criptomoneda\n",
        "    #  el cuarto indice contiene la tencdencia actual\n",
        "\n",
        "    precio_actual = float(cripto_row[3].text.replace('$', '').replace(',',''))\n",
        "    tendencia_td = cripto_row[4].find(\"span\")\n",
        "\n",
        "    if tendencia_td.attrs['class'][0] == \"icon-Caret-up\":\n",
        "      tendencia = 'alta'\n",
        "    else:\n",
        "      tendencia = 'baja'\n",
        "\n",
        "    return (precio_actual, tendencia)\n",
        "  else:\n",
        "    print(\"Error al cargar la página de CoinMarketCap\")\n",
        "    return (precio_actual, tendencia)"
      ]
    },
    {
      "cell_type": "code",
      "execution_count": null,
      "metadata": {
        "colab": {
          "base_uri": "https://localhost:8080/"
        },
        "id": "UxQfd4jKPtW6",
        "outputId": "7fb83dbc-44a8-41ed-ef02-1ac8f165193c"
      },
      "outputs": [
        {
          "output_type": "stream",
          "name": "stdout",
          "text": [
            "Precio actual: 118273.25\n",
            "Tendencia: baja\n"
          ]
        }
      ],
      "source": [
        "precio_actual, tendencia = extraer_tendencias()\n",
        "print(f'Precio actual: {precio_actual}')\n",
        "print(f'Tendencia: {tendencia}')"
      ]
    },
    {
      "cell_type": "markdown",
      "metadata": {
        "id": "YumS77qUSKb4"
      },
      "source": [
        "# **3. Limpieza de datos**"
      ]
    },
    {
      "cell_type": "markdown",
      "metadata": {
        "id": "-g6DUhF0ZOy9"
      },
      "source": [
        "## **3.1 Análisis antes de la limpieza de datos**"
      ]
    },
    {
      "cell_type": "markdown",
      "metadata": {
        "id": "wxVkLF8m3hXG"
      },
      "source": [
        "La siguiente función imprime la siguiente informacion del dataframe original: La cantidad de registros duplicados, si existen valores nulos en la columna *close* y cuenta el total de registros cuyo *Volume* no es mayor a cero, i.e, aquellos registros en que no se hizo ninguna transacción."
      ]
    },
    {
      "cell_type": "code",
      "execution_count": null,
      "metadata": {
        "id": "WDrNWSOc5mCO",
        "colab": {
          "base_uri": "https://localhost:8080/"
        },
        "outputId": "8b28a296-61d1-470b-d9df-769bfca56c8e"
      },
      "outputs": [
        {
          "output_type": "stream",
          "name": "stdout",
          "text": [
            "Análisis del dataframe original:\n",
            "\n",
            "  - El dataframe contiene 1810 registros.\n",
            "  - Existen 0 indices repetidos.\n",
            "  - Existen valores nulos en la columna \"Close\": No\n",
            "  - Registros que tengan registros Volume de transacción menor o igual a cero: 898\n"
          ]
        }
      ],
      "source": [
        "def analisis(df: pd.DataFrame):\n",
        "\n",
        "  indices_repetidos = df.duplicated().sum()\n",
        "  valores_nulos_close = 'Si' if df.Close.isna().any().any() == True else \"No\"\n",
        "  registros_cero = df.Volume[df.Volume <= 0].count().to_list()[0]\n",
        "\n",
        "  print('Análisis del dataframe original:')\n",
        "  print(f'\\n  - El dataframe contiene {df.shape[0]} registros.')\n",
        "  print(f'  - Existen {indices_repetidos} indices repetidos.')\n",
        "  print(f'  - Existen valores nulos en la columna \"Close\": {valores_nulos_close}')\n",
        "  print(f'  - Registros que tengan registros Volume de transacción menor o igual a cero: {registros_cero}')\n",
        "\n",
        "analisis(df_bitcoin)"
      ]
    },
    {
      "cell_type": "code",
      "execution_count": null,
      "metadata": {
        "id": "pPerkQiHeUUV",
        "colab": {
          "base_uri": "https://localhost:8080/"
        },
        "outputId": "d3fa69ea-3761-4508-b5bf-6ea431593746"
      },
      "outputs": [
        {
          "output_type": "stream",
          "name": "stdout",
          "text": [
            "<class 'pandas.core.frame.DataFrame'>\n",
            "DatetimeIndex: 1810 entries, 2025-07-10 00:00:00+00:00 to 2025-07-16 06:45:00+00:00\n",
            "Data columns (total 5 columns):\n",
            " #   Column             Non-Null Count  Dtype  \n",
            "---  ------             --------------  -----  \n",
            " 0   (Close, BTC-USD)   1810 non-null   float64\n",
            " 1   (High, BTC-USD)    1810 non-null   float64\n",
            " 2   (Low, BTC-USD)     1810 non-null   float64\n",
            " 3   (Open, BTC-USD)    1810 non-null   float64\n",
            " 4   (Volume, BTC-USD)  1810 non-null   int64  \n",
            "dtypes: float64(4), int64(1)\n",
            "memory usage: 84.8 KB\n"
          ]
        }
      ],
      "source": [
        "df_bitcoin.info()"
      ]
    },
    {
      "cell_type": "markdown",
      "source": [
        "Antes de la limpieza de datos, ajustemos el multiindice del dataframe"
      ],
      "metadata": {
        "id": "5ASarxbQebBg"
      }
    },
    {
      "cell_type": "code",
      "source": [
        "def ajuste_columns(df: pd.DataFrame) -> pd.DataFrame:\n",
        "  df_copy = df.copy()\n",
        "  df_copy.columns = [f'{level_1}' for level_1, level_2 in df_copy.columns]\n",
        "  return df_copy"
      ],
      "metadata": {
        "id": "CHVlRsG_4SB2"
      },
      "execution_count": null,
      "outputs": []
    },
    {
      "cell_type": "code",
      "source": [
        "copy_bitcoin = ajuste_columns(df_bitcoin)\n",
        "copy_bitcoin.head(3)"
      ],
      "metadata": {
        "colab": {
          "base_uri": "https://localhost:8080/",
          "height": 175
        },
        "id": "YcJPC8fkethu",
        "outputId": "fe9a5f92-dbf8-4a3f-a189-598bf922173b"
      },
      "execution_count": null,
      "outputs": [
        {
          "output_type": "execute_result",
          "data": {
            "text/plain": [
              "                                  Close           High            Low  \\\n",
              "Datetime                                                                \n",
              "2025-07-10 00:00:00+00:00  111337.90625  111337.906250  111301.765625   \n",
              "2025-07-10 00:05:00+00:00  111329.65625  111336.882812  111321.742188   \n",
              "2025-07-10 00:10:00+00:00  111334.25000  111334.250000  111306.421875   \n",
              "\n",
              "                                    Open    Volume  \n",
              "Datetime                                            \n",
              "2025-07-10 00:00:00+00:00  111301.765625         0  \n",
              "2025-07-10 00:05:00+00:00  111321.742188  79646720  \n",
              "2025-07-10 00:10:00+00:00  111324.523438         0  "
            ],
            "text/html": [
              "\n",
              "  <div id=\"df-8bbabd13-8b12-4751-a96d-ca8b2404bbab\" class=\"colab-df-container\">\n",
              "    <div>\n",
              "<style scoped>\n",
              "    .dataframe tbody tr th:only-of-type {\n",
              "        vertical-align: middle;\n",
              "    }\n",
              "\n",
              "    .dataframe tbody tr th {\n",
              "        vertical-align: top;\n",
              "    }\n",
              "\n",
              "    .dataframe thead th {\n",
              "        text-align: right;\n",
              "    }\n",
              "</style>\n",
              "<table border=\"1\" class=\"dataframe\">\n",
              "  <thead>\n",
              "    <tr style=\"text-align: right;\">\n",
              "      <th></th>\n",
              "      <th>Close</th>\n",
              "      <th>High</th>\n",
              "      <th>Low</th>\n",
              "      <th>Open</th>\n",
              "      <th>Volume</th>\n",
              "    </tr>\n",
              "    <tr>\n",
              "      <th>Datetime</th>\n",
              "      <th></th>\n",
              "      <th></th>\n",
              "      <th></th>\n",
              "      <th></th>\n",
              "      <th></th>\n",
              "    </tr>\n",
              "  </thead>\n",
              "  <tbody>\n",
              "    <tr>\n",
              "      <th>2025-07-10 00:00:00+00:00</th>\n",
              "      <td>111337.90625</td>\n",
              "      <td>111337.906250</td>\n",
              "      <td>111301.765625</td>\n",
              "      <td>111301.765625</td>\n",
              "      <td>0</td>\n",
              "    </tr>\n",
              "    <tr>\n",
              "      <th>2025-07-10 00:05:00+00:00</th>\n",
              "      <td>111329.65625</td>\n",
              "      <td>111336.882812</td>\n",
              "      <td>111321.742188</td>\n",
              "      <td>111321.742188</td>\n",
              "      <td>79646720</td>\n",
              "    </tr>\n",
              "    <tr>\n",
              "      <th>2025-07-10 00:10:00+00:00</th>\n",
              "      <td>111334.25000</td>\n",
              "      <td>111334.250000</td>\n",
              "      <td>111306.421875</td>\n",
              "      <td>111324.523438</td>\n",
              "      <td>0</td>\n",
              "    </tr>\n",
              "  </tbody>\n",
              "</table>\n",
              "</div>\n",
              "    <div class=\"colab-df-buttons\">\n",
              "\n",
              "  <div class=\"colab-df-container\">\n",
              "    <button class=\"colab-df-convert\" onclick=\"convertToInteractive('df-8bbabd13-8b12-4751-a96d-ca8b2404bbab')\"\n",
              "            title=\"Convert this dataframe to an interactive table.\"\n",
              "            style=\"display:none;\">\n",
              "\n",
              "  <svg xmlns=\"http://www.w3.org/2000/svg\" height=\"24px\" viewBox=\"0 -960 960 960\">\n",
              "    <path d=\"M120-120v-720h720v720H120Zm60-500h600v-160H180v160Zm220 220h160v-160H400v160Zm0 220h160v-160H400v160ZM180-400h160v-160H180v160Zm440 0h160v-160H620v160ZM180-180h160v-160H180v160Zm440 0h160v-160H620v160Z\"/>\n",
              "  </svg>\n",
              "    </button>\n",
              "\n",
              "  <style>\n",
              "    .colab-df-container {\n",
              "      display:flex;\n",
              "      gap: 12px;\n",
              "    }\n",
              "\n",
              "    .colab-df-convert {\n",
              "      background-color: #E8F0FE;\n",
              "      border: none;\n",
              "      border-radius: 50%;\n",
              "      cursor: pointer;\n",
              "      display: none;\n",
              "      fill: #1967D2;\n",
              "      height: 32px;\n",
              "      padding: 0 0 0 0;\n",
              "      width: 32px;\n",
              "    }\n",
              "\n",
              "    .colab-df-convert:hover {\n",
              "      background-color: #E2EBFA;\n",
              "      box-shadow: 0px 1px 2px rgba(60, 64, 67, 0.3), 0px 1px 3px 1px rgba(60, 64, 67, 0.15);\n",
              "      fill: #174EA6;\n",
              "    }\n",
              "\n",
              "    .colab-df-buttons div {\n",
              "      margin-bottom: 4px;\n",
              "    }\n",
              "\n",
              "    [theme=dark] .colab-df-convert {\n",
              "      background-color: #3B4455;\n",
              "      fill: #D2E3FC;\n",
              "    }\n",
              "\n",
              "    [theme=dark] .colab-df-convert:hover {\n",
              "      background-color: #434B5C;\n",
              "      box-shadow: 0px 1px 3px 1px rgba(0, 0, 0, 0.15);\n",
              "      filter: drop-shadow(0px 1px 2px rgba(0, 0, 0, 0.3));\n",
              "      fill: #FFFFFF;\n",
              "    }\n",
              "  </style>\n",
              "\n",
              "    <script>\n",
              "      const buttonEl =\n",
              "        document.querySelector('#df-8bbabd13-8b12-4751-a96d-ca8b2404bbab button.colab-df-convert');\n",
              "      buttonEl.style.display =\n",
              "        google.colab.kernel.accessAllowed ? 'block' : 'none';\n",
              "\n",
              "      async function convertToInteractive(key) {\n",
              "        const element = document.querySelector('#df-8bbabd13-8b12-4751-a96d-ca8b2404bbab');\n",
              "        const dataTable =\n",
              "          await google.colab.kernel.invokeFunction('convertToInteractive',\n",
              "                                                    [key], {});\n",
              "        if (!dataTable) return;\n",
              "\n",
              "        const docLinkHtml = 'Like what you see? Visit the ' +\n",
              "          '<a target=\"_blank\" href=https://colab.research.google.com/notebooks/data_table.ipynb>data table notebook</a>'\n",
              "          + ' to learn more about interactive tables.';\n",
              "        element.innerHTML = '';\n",
              "        dataTable['output_type'] = 'display_data';\n",
              "        await google.colab.output.renderOutput(dataTable, element);\n",
              "        const docLink = document.createElement('div');\n",
              "        docLink.innerHTML = docLinkHtml;\n",
              "        element.appendChild(docLink);\n",
              "      }\n",
              "    </script>\n",
              "  </div>\n",
              "\n",
              "\n",
              "    <div id=\"df-4be27848-2167-4711-9ce7-17a1d7e0f170\">\n",
              "      <button class=\"colab-df-quickchart\" onclick=\"quickchart('df-4be27848-2167-4711-9ce7-17a1d7e0f170')\"\n",
              "                title=\"Suggest charts\"\n",
              "                style=\"display:none;\">\n",
              "\n",
              "<svg xmlns=\"http://www.w3.org/2000/svg\" height=\"24px\"viewBox=\"0 0 24 24\"\n",
              "     width=\"24px\">\n",
              "    <g>\n",
              "        <path d=\"M19 3H5c-1.1 0-2 .9-2 2v14c0 1.1.9 2 2 2h14c1.1 0 2-.9 2-2V5c0-1.1-.9-2-2-2zM9 17H7v-7h2v7zm4 0h-2V7h2v10zm4 0h-2v-4h2v4z\"/>\n",
              "    </g>\n",
              "</svg>\n",
              "      </button>\n",
              "\n",
              "<style>\n",
              "  .colab-df-quickchart {\n",
              "      --bg-color: #E8F0FE;\n",
              "      --fill-color: #1967D2;\n",
              "      --hover-bg-color: #E2EBFA;\n",
              "      --hover-fill-color: #174EA6;\n",
              "      --disabled-fill-color: #AAA;\n",
              "      --disabled-bg-color: #DDD;\n",
              "  }\n",
              "\n",
              "  [theme=dark] .colab-df-quickchart {\n",
              "      --bg-color: #3B4455;\n",
              "      --fill-color: #D2E3FC;\n",
              "      --hover-bg-color: #434B5C;\n",
              "      --hover-fill-color: #FFFFFF;\n",
              "      --disabled-bg-color: #3B4455;\n",
              "      --disabled-fill-color: #666;\n",
              "  }\n",
              "\n",
              "  .colab-df-quickchart {\n",
              "    background-color: var(--bg-color);\n",
              "    border: none;\n",
              "    border-radius: 50%;\n",
              "    cursor: pointer;\n",
              "    display: none;\n",
              "    fill: var(--fill-color);\n",
              "    height: 32px;\n",
              "    padding: 0;\n",
              "    width: 32px;\n",
              "  }\n",
              "\n",
              "  .colab-df-quickchart:hover {\n",
              "    background-color: var(--hover-bg-color);\n",
              "    box-shadow: 0 1px 2px rgba(60, 64, 67, 0.3), 0 1px 3px 1px rgba(60, 64, 67, 0.15);\n",
              "    fill: var(--button-hover-fill-color);\n",
              "  }\n",
              "\n",
              "  .colab-df-quickchart-complete:disabled,\n",
              "  .colab-df-quickchart-complete:disabled:hover {\n",
              "    background-color: var(--disabled-bg-color);\n",
              "    fill: var(--disabled-fill-color);\n",
              "    box-shadow: none;\n",
              "  }\n",
              "\n",
              "  .colab-df-spinner {\n",
              "    border: 2px solid var(--fill-color);\n",
              "    border-color: transparent;\n",
              "    border-bottom-color: var(--fill-color);\n",
              "    animation:\n",
              "      spin 1s steps(1) infinite;\n",
              "  }\n",
              "\n",
              "  @keyframes spin {\n",
              "    0% {\n",
              "      border-color: transparent;\n",
              "      border-bottom-color: var(--fill-color);\n",
              "      border-left-color: var(--fill-color);\n",
              "    }\n",
              "    20% {\n",
              "      border-color: transparent;\n",
              "      border-left-color: var(--fill-color);\n",
              "      border-top-color: var(--fill-color);\n",
              "    }\n",
              "    30% {\n",
              "      border-color: transparent;\n",
              "      border-left-color: var(--fill-color);\n",
              "      border-top-color: var(--fill-color);\n",
              "      border-right-color: var(--fill-color);\n",
              "    }\n",
              "    40% {\n",
              "      border-color: transparent;\n",
              "      border-right-color: var(--fill-color);\n",
              "      border-top-color: var(--fill-color);\n",
              "    }\n",
              "    60% {\n",
              "      border-color: transparent;\n",
              "      border-right-color: var(--fill-color);\n",
              "    }\n",
              "    80% {\n",
              "      border-color: transparent;\n",
              "      border-right-color: var(--fill-color);\n",
              "      border-bottom-color: var(--fill-color);\n",
              "    }\n",
              "    90% {\n",
              "      border-color: transparent;\n",
              "      border-bottom-color: var(--fill-color);\n",
              "    }\n",
              "  }\n",
              "</style>\n",
              "\n",
              "      <script>\n",
              "        async function quickchart(key) {\n",
              "          const quickchartButtonEl =\n",
              "            document.querySelector('#' + key + ' button');\n",
              "          quickchartButtonEl.disabled = true;  // To prevent multiple clicks.\n",
              "          quickchartButtonEl.classList.add('colab-df-spinner');\n",
              "          try {\n",
              "            const charts = await google.colab.kernel.invokeFunction(\n",
              "                'suggestCharts', [key], {});\n",
              "          } catch (error) {\n",
              "            console.error('Error during call to suggestCharts:', error);\n",
              "          }\n",
              "          quickchartButtonEl.classList.remove('colab-df-spinner');\n",
              "          quickchartButtonEl.classList.add('colab-df-quickchart-complete');\n",
              "        }\n",
              "        (() => {\n",
              "          let quickchartButtonEl =\n",
              "            document.querySelector('#df-4be27848-2167-4711-9ce7-17a1d7e0f170 button');\n",
              "          quickchartButtonEl.style.display =\n",
              "            google.colab.kernel.accessAllowed ? 'block' : 'none';\n",
              "        })();\n",
              "      </script>\n",
              "    </div>\n",
              "\n",
              "    </div>\n",
              "  </div>\n"
            ],
            "application/vnd.google.colaboratory.intrinsic+json": {
              "type": "dataframe",
              "variable_name": "copy_bitcoin",
              "summary": "{\n  \"name\": \"copy_bitcoin\",\n  \"rows\": 1810,\n  \"fields\": [\n    {\n      \"column\": \"Datetime\",\n      \"properties\": {\n        \"dtype\": \"date\",\n        \"min\": \"2025-07-10 00:00:00+00:00\",\n        \"max\": \"2025-07-16 06:45:00+00:00\",\n        \"num_unique_values\": 1810,\n        \"samples\": [\n          \"2025-07-14 18:10:00+00:00\",\n          \"2025-07-10 05:25:00+00:00\",\n          \"2025-07-14 11:25:00+00:00\"\n        ],\n        \"semantic_type\": \"\",\n        \"description\": \"\"\n      }\n    },\n    {\n      \"column\": \"Close\",\n      \"properties\": {\n        \"dtype\": \"number\",\n        \"std\": 2679.9933707344167,\n        \"min\": 110670.671875,\n        \"max\": 123036.46875,\n        \"num_unique_values\": 1806,\n        \"samples\": [\n          119779.0546875,\n          111063.8125,\n          118101.1953125\n        ],\n        \"semantic_type\": \"\",\n        \"description\": \"\"\n      }\n    },\n    {\n      \"column\": \"High\",\n      \"properties\": {\n        \"dtype\": \"number\",\n        \"std\": 2685.7372544067453,\n        \"min\": 110801.6953125,\n        \"max\": 123077.6328125,\n        \"num_unique_values\": 1808,\n        \"samples\": [\n          117593.1640625,\n          111063.8125,\n          118118.28125\n        ],\n        \"semantic_type\": \"\",\n        \"description\": \"\"\n      }\n    },\n    {\n      \"column\": \"Low\",\n      \"properties\": {\n        \"dtype\": \"number\",\n        \"std\": 2676.3087897099904,\n        \"min\": 110670.671875,\n        \"max\": 122940.1796875,\n        \"num_unique_values\": 1808,\n        \"samples\": [\n          117108.3828125,\n          111002.8046875,\n          118096.40625\n        ],\n        \"semantic_type\": \"\",\n        \"description\": \"\"\n      }\n    },\n    {\n      \"column\": \"Open\",\n      \"properties\": {\n        \"dtype\": \"number\",\n        \"std\": 2682.4290684448015,\n        \"min\": 110761.0703125,\n        \"max\": 122944.7734375,\n        \"num_unique_values\": 1808,\n        \"samples\": [\n          117593.1640625,\n          111002.8046875,\n          118094.296875\n        ],\n        \"semantic_type\": \"\",\n        \"description\": \"\"\n      }\n    },\n    {\n      \"column\": \"Volume\",\n      \"properties\": {\n        \"dtype\": \"number\",\n        \"std\": 1378223685,\n        \"min\": 0,\n        \"max\": 31402790912,\n        \"num_unique_values\": 913,\n        \"samples\": [\n          321282048,\n          154992640,\n          916041728\n        ],\n        \"semantic_type\": \"\",\n        \"description\": \"\"\n      }\n    }\n  ]\n}"
            }
          },
          "metadata": {},
          "execution_count": 9
        }
      ]
    },
    {
      "cell_type": "code",
      "source": [
        "df_bitcoin = copy_bitcoin.copy()\n",
        "del copy_bitcoin"
      ],
      "metadata": {
        "id": "GGlkTtfZ07dW"
      },
      "execution_count": null,
      "outputs": []
    },
    {
      "cell_type": "code",
      "source": [
        "df_bitcoin.boxplot(\"Close\");\n",
        "plt.title(\"Distribución del precio de cierre (sin filtrar)\");"
      ],
      "metadata": {
        "colab": {
          "base_uri": "https://localhost:8080/",
          "height": 453
        },
        "id": "TLnuNcfDkKGT",
        "outputId": "1d9849b8-51fb-4d98-cee9-aac18185d953"
      },
      "execution_count": null,
      "outputs": [
        {
          "output_type": "display_data",
          "data": {
            "text/plain": [
              "<Figure size 640x480 with 1 Axes>"
            ],
            "image/png": "[encoded data removed]"
          },
          "metadata": {}
        }
      ]
    },
    {
      "cell_type": "markdown",
      "metadata": {
        "id": "newb6p3L1zD4"
      },
      "source": [
        "## **3.2 Creación de la función que limpia la base de datos**"
      ]
    },
    {
      "cell_type": "markdown",
      "metadata": {
        "id": "bk3LHKVBzhoD"
      },
      "source": [
        "De la copia del dataframe, se realizará la siguienete limpieza:\n",
        "1. Los valores duplicados serán eliminados, encaso de existir.\n",
        "2. En la columna que almacena los precios de cierre, en caso de que el valor sea nulo, este será llenado con el valor anterior que no lo es.\n",
        "3. Serán elimindaos aquellos registros cuyo volume de transacción no sean mayores a cero.\n",
        "4. Nos concentraremos en aquellos registros cuyos precios de cierre se encuentren entre los quartiles $Q_1,\\ Q_3$."
      ]
    },
    {
      "cell_type": "code",
      "execution_count": null,
      "metadata": {
        "id": "PwmH4SlvSaNu"
      },
      "outputs": [],
      "source": [
        "def limpieza_datos(df: pd.DataFrame) -> tuple[float, pd.DataFrame]:\n",
        "  media: float = 0\n",
        "\n",
        "  #Limpieza b[asica en caso de ser requerida\n",
        "  df_limpio = df.copy()\n",
        "  df_limpio.drop_duplicates(inplace=True)\n",
        "  valores_nulos = df_limpio.Close.isna().any()\n",
        "  if valores_nulos == True:\n",
        "    df_limpio.Close.fillna(method='ffill', inplace=True)\n",
        "\n",
        "  # Eliminado registros que tengan un Volume de transaccion igual cero\n",
        "  query = df_limpio.query('Volume <= 0').index\n",
        "  df_limpio.drop(query, axis = 0, inplace = True)\n",
        "\n",
        "  Q1 = df_limpio.Close.quantile(0.25)\n",
        "  Q3 = df_limpio.Close.quantile(0.75)\n",
        "  # IIQ = Q3-Q1\n",
        "  df_limpio = df_limpio.query(f'Close > {Q1} & Close < {Q3}')\n",
        "\n",
        "  # Calculando la media con los datos ya filtrados.\n",
        "  media = df_limpio.Close.mean()\n",
        "\n",
        "  return (media, df_limpio)"
      ]
    },
    {
      "cell_type": "code",
      "source": [
        "precio_medio, df_limpio = limpieza_datos(df_bitcoin)\n",
        "print(f'El precio medio del Bitcoin es: {precio_medio:.2f}\\n\\n')\n",
        "df_limpio.head(3)\n"
      ],
      "metadata": {
        "colab": {
          "base_uri": "https://localhost:8080/",
          "height": 230
        },
        "id": "xlBiS9HVjQ0A",
        "outputId": "62c8c933-73b1-4ffb-b2c9-0da9cf255a84"
      },
      "execution_count": null,
      "outputs": [
        {
          "output_type": "stream",
          "name": "stdout",
          "text": [
            "El precio medio del Bitcoin es: 117769.11\n",
            "\n",
            "\n"
          ]
        },
        {
          "output_type": "execute_result",
          "data": {
            "text/plain": [
              "                                   Close           High            Low  \\\n",
              "Datetime                                                                 \n",
              "2025-07-11 04:50:00+00:00  116914.523438  116914.523438  116855.859375   \n",
              "2025-07-11 05:05:00+00:00  117239.820312  117239.820312  116950.343750   \n",
              "2025-07-11 05:15:00+00:00  117256.468750  117321.578125  117235.273438   \n",
              "\n",
              "                                    Open     Volume  \n",
              "Datetime                                             \n",
              "2025-07-11 04:50:00+00:00  116860.289062   32563200  \n",
              "2025-07-11 05:05:00+00:00  116950.343750  850018304  \n",
              "2025-07-11 05:15:00+00:00  117235.273438  357408768  "
            ],
            "text/html": [
              "\n",
              "  <div id=\"df-da07a70f-57aa-4e8f-9707-82888efc1e84\" class=\"colab-df-container\">\n",
              "    <div>\n",
              "<style scoped>\n",
              "    .dataframe tbody tr th:only-of-type {\n",
              "        vertical-align: middle;\n",
              "    }\n",
              "\n",
              "    .dataframe tbody tr th {\n",
              "        vertical-align: top;\n",
              "    }\n",
              "\n",
              "    .dataframe thead th {\n",
              "        text-align: right;\n",
              "    }\n",
              "</style>\n",
              "<table border=\"1\" class=\"dataframe\">\n",
              "  <thead>\n",
              "    <tr style=\"text-align: right;\">\n",
              "      <th></th>\n",
              "      <th>Close</th>\n",
              "      <th>High</th>\n",
              "      <th>Low</th>\n",
              "      <th>Open</th>\n",
              "      <th>Volume</th>\n",
              "    </tr>\n",
              "    <tr>\n",
              "      <th>Datetime</th>\n",
              "      <th></th>\n",
              "      <th></th>\n",
              "      <th></th>\n",
              "      <th></th>\n",
              "      <th></th>\n",
              "    </tr>\n",
              "  </thead>\n",
              "  <tbody>\n",
              "    <tr>\n",
              "      <th>2025-07-11 04:50:00+00:00</th>\n",
              "      <td>116914.523438</td>\n",
              "      <td>116914.523438</td>\n",
              "      <td>116855.859375</td>\n",
              "      <td>116860.289062</td>\n",
              "      <td>32563200</td>\n",
              "    </tr>\n",
              "    <tr>\n",
              "      <th>2025-07-11 05:05:00+00:00</th>\n",
              "      <td>117239.820312</td>\n",
              "      <td>117239.820312</td>\n",
              "      <td>116950.343750</td>\n",
              "      <td>116950.343750</td>\n",
              "      <td>850018304</td>\n",
              "    </tr>\n",
              "    <tr>\n",
              "      <th>2025-07-11 05:15:00+00:00</th>\n",
              "      <td>117256.468750</td>\n",
              "      <td>117321.578125</td>\n",
              "      <td>117235.273438</td>\n",
              "      <td>117235.273438</td>\n",
              "      <td>357408768</td>\n",
              "    </tr>\n",
              "  </tbody>\n",
              "</table>\n",
              "</div>\n",
              "    <div class=\"colab-df-buttons\">\n",
              "\n",
              "  <div class=\"colab-df-container\">\n",
              "    <button class=\"colab-df-convert\" onclick=\"convertToInteractive('df-da07a70f-57aa-4e8f-9707-82888efc1e84')\"\n",
              "            title=\"Convert this dataframe to an interactive table.\"\n",
              "            style=\"display:none;\">\n",
              "\n",
              "  <svg xmlns=\"http://www.w3.org/2000/svg\" height=\"24px\" viewBox=\"0 -960 960 960\">\n",
              "    <path d=\"M120-120v-720h720v720H120Zm60-500h600v-160H180v160Zm220 220h160v-160H400v160Zm0 220h160v-160H400v160ZM180-400h160v-160H180v160Zm440 0h160v-160H620v160ZM180-180h160v-160H180v160Zm440 0h160v-160H620v160Z\"/>\n",
              "  </svg>\n",
              "    </button>\n",
              "\n",
              "  <style>\n",
              "    .colab-df-container {\n",
              "      display:flex;\n",
              "      gap: 12px;\n",
              "    }\n",
              "\n",
              "    .colab-df-convert {\n",
              "      background-color: #E8F0FE;\n",
              "      border: none;\n",
              "      border-radius: 50%;\n",
              "      cursor: pointer;\n",
              "      display: none;\n",
              "      fill: #1967D2;\n",
              "      height: 32px;\n",
              "      padding: 0 0 0 0;\n",
              "      width: 32px;\n",
              "    }\n",
              "\n",
              "    .colab-df-convert:hover {\n",
              "      background-color: #E2EBFA;\n",
              "      box-shadow: 0px 1px 2px rgba(60, 64, 67, 0.3), 0px 1px 3px 1px rgba(60, 64, 67, 0.15);\n",
              "      fill: #174EA6;\n",
              "    }\n",
              "\n",
              "    .colab-df-buttons div {\n",
              "      margin-bottom: 4px;\n",
              "    }\n",
              "\n",
              "    [theme=dark] .colab-df-convert {\n",
              "      background-color: #3B4455;\n",
              "      fill: #D2E3FC;\n",
              "    }\n",
              "\n",
              "    [theme=dark] .colab-df-convert:hover {\n",
              "      background-color: #434B5C;\n",
              "      box-shadow: 0px 1px 3px 1px rgba(0, 0, 0, 0.15);\n",
              "      filter: drop-shadow(0px 1px 2px rgba(0, 0, 0, 0.3));\n",
              "      fill: #FFFFFF;\n",
              "    }\n",
              "  </style>\n",
              "\n",
              "    <script>\n",
              "      const buttonEl =\n",
              "        document.querySelector('#df-da07a70f-57aa-4e8f-9707-82888efc1e84 button.colab-df-convert');\n",
              "      buttonEl.style.display =\n",
              "        google.colab.kernel.accessAllowed ? 'block' : 'none';\n",
              "\n",
              "      async function convertToInteractive(key) {\n",
              "        const element = document.querySelector('#df-da07a70f-57aa-4e8f-9707-82888efc1e84');\n",
              "        const dataTable =\n",
              "          await google.colab.kernel.invokeFunction('convertToInteractive',\n",
              "                                                    [key], {});\n",
              "        if (!dataTable) return;\n",
              "\n",
              "        const docLinkHtml = 'Like what you see? Visit the ' +\n",
              "          '<a target=\"_blank\" href=https://colab.research.google.com/notebooks/data_table.ipynb>data table notebook</a>'\n",
              "          + ' to learn more about interactive tables.';\n",
              "        element.innerHTML = '';\n",
              "        dataTable['output_type'] = 'display_data';\n",
              "        await google.colab.output.renderOutput(dataTable, element);\n",
              "        const docLink = document.createElement('div');\n",
              "        docLink.innerHTML = docLinkHtml;\n",
              "        element.appendChild(docLink);\n",
              "      }\n",
              "    </script>\n",
              "  </div>\n",
              "\n",
              "\n",
              "    <div id=\"df-ea25c9fe-0a9c-4fe1-8cbe-ec700805e8fc\">\n",
              "      <button class=\"colab-df-quickchart\" onclick=\"quickchart('df-ea25c9fe-0a9c-4fe1-8cbe-ec700805e8fc')\"\n",
              "                title=\"Suggest charts\"\n",
              "                style=\"display:none;\">\n",
              "\n",
              "<svg xmlns=\"http://www.w3.org/2000/svg\" height=\"24px\"viewBox=\"0 0 24 24\"\n",
              "     width=\"24px\">\n",
              "    <g>\n",
              "        <path d=\"M19 3H5c-1.1 0-2 .9-2 2v14c0 1.1.9 2 2 2h14c1.1 0 2-.9 2-2V5c0-1.1-.9-2-2-2zM9 17H7v-7h2v7zm4 0h-2V7h2v10zm4 0h-2v-4h2v4z\"/>\n",
              "    </g>\n",
              "</svg>\n",
              "      </button>\n",
              "\n",
              "<style>\n",
              "  .colab-df-quickchart {\n",
              "      --bg-color: #E8F0FE;\n",
              "      --fill-color: #1967D2;\n",
              "      --hover-bg-color: #E2EBFA;\n",
              "      --hover-fill-color: #174EA6;\n",
              "      --disabled-fill-color: #AAA;\n",
              "      --disabled-bg-color: #DDD;\n",
              "  }\n",
              "\n",
              "  [theme=dark] .colab-df-quickchart {\n",
              "      --bg-color: #3B4455;\n",
              "      --fill-color: #D2E3FC;\n",
              "      --hover-bg-color: #434B5C;\n",
              "      --hover-fill-color: #FFFFFF;\n",
              "      --disabled-bg-color: #3B4455;\n",
              "      --disabled-fill-color: #666;\n",
              "  }\n",
              "\n",
              "  .colab-df-quickchart {\n",
              "    background-color: var(--bg-color);\n",
              "    border: none;\n",
              "    border-radius: 50%;\n",
              "    cursor: pointer;\n",
              "    display: none;\n",
              "    fill: var(--fill-color);\n",
              "    height: 32px;\n",
              "    padding: 0;\n",
              "    width: 32px;\n",
              "  }\n",
              "\n",
              "  .colab-df-quickchart:hover {\n",
              "    background-color: var(--hover-bg-color);\n",
              "    box-shadow: 0 1px 2px rgba(60, 64, 67, 0.3), 0 1px 3px 1px rgba(60, 64, 67, 0.15);\n",
              "    fill: var(--button-hover-fill-color);\n",
              "  }\n",
              "\n",
              "  .colab-df-quickchart-complete:disabled,\n",
              "  .colab-df-quickchart-complete:disabled:hover {\n",
              "    background-color: var(--disabled-bg-color);\n",
              "    fill: var(--disabled-fill-color);\n",
              "    box-shadow: none;\n",
              "  }\n",
              "\n",
              "  .colab-df-spinner {\n",
              "    border: 2px solid var(--fill-color);\n",
              "    border-color: transparent;\n",
              "    border-bottom-color: var(--fill-color);\n",
              "    animation:\n",
              "      spin 1s steps(1) infinite;\n",
              "  }\n",
              "\n",
              "  @keyframes spin {\n",
              "    0% {\n",
              "      border-color: transparent;\n",
              "      border-bottom-color: var(--fill-color);\n",
              "      border-left-color: var(--fill-color);\n",
              "    }\n",
              "    20% {\n",
              "      border-color: transparent;\n",
              "      border-left-color: var(--fill-color);\n",
              "      border-top-color: var(--fill-color);\n",
              "    }\n",
              "    30% {\n",
              "      border-color: transparent;\n",
              "      border-left-color: var(--fill-color);\n",
              "      border-top-color: var(--fill-color);\n",
              "      border-right-color: var(--fill-color);\n",
              "    }\n",
              "    40% {\n",
              "      border-color: transparent;\n",
              "      border-right-color: var(--fill-color);\n",
              "      border-top-color: var(--fill-color);\n",
              "    }\n",
              "    60% {\n",
              "      border-color: transparent;\n",
              "      border-right-color: var(--fill-color);\n",
              "    }\n",
              "    80% {\n",
              "      border-color: transparent;\n",
              "      border-right-color: var(--fill-color);\n",
              "      border-bottom-color: var(--fill-color);\n",
              "    }\n",
              "    90% {\n",
              "      border-color: transparent;\n",
              "      border-bottom-color: var(--fill-color);\n",
              "    }\n",
              "  }\n",
              "</style>\n",
              "\n",
              "      <script>\n",
              "        async function quickchart(key) {\n",
              "          const quickchartButtonEl =\n",
              "            document.querySelector('#' + key + ' button');\n",
              "          quickchartButtonEl.disabled = true;  // To prevent multiple clicks.\n",
              "          quickchartButtonEl.classList.add('colab-df-spinner');\n",
              "          try {\n",
              "            const charts = await google.colab.kernel.invokeFunction(\n",
              "                'suggestCharts', [key], {});\n",
              "          } catch (error) {\n",
              "            console.error('Error during call to suggestCharts:', error);\n",
              "          }\n",
              "          quickchartButtonEl.classList.remove('colab-df-spinner');\n",
              "          quickchartButtonEl.classList.add('colab-df-quickchart-complete');\n",
              "        }\n",
              "        (() => {\n",
              "          let quickchartButtonEl =\n",
              "            document.querySelector('#df-ea25c9fe-0a9c-4fe1-8cbe-ec700805e8fc button');\n",
              "          quickchartButtonEl.style.display =\n",
              "            google.colab.kernel.accessAllowed ? 'block' : 'none';\n",
              "        })();\n",
              "      </script>\n",
              "    </div>\n",
              "\n",
              "    </div>\n",
              "  </div>\n"
            ],
            "application/vnd.google.colaboratory.intrinsic+json": {
              "type": "dataframe",
              "variable_name": "df_limpio",
              "summary": "{\n  \"name\": \"df_limpio\",\n  \"rows\": 456,\n  \"fields\": [\n    {\n      \"column\": \"Datetime\",\n      \"properties\": {\n        \"dtype\": \"date\",\n        \"min\": \"2025-07-11 04:50:00+00:00\",\n        \"max\": \"2025-07-16 06:45:00+00:00\",\n        \"num_unique_values\": 456,\n        \"samples\": [\n          \"2025-07-15 16:35:00+00:00\",\n          \"2025-07-11 09:05:00+00:00\",\n          \"2025-07-15 05:10:00+00:00\"\n        ],\n        \"semantic_type\": \"\",\n        \"description\": \"\"\n      }\n    },\n    {\n      \"column\": \"Close\",\n      \"properties\": {\n        \"dtype\": \"number\",\n        \"std\": 437.6981610220981,\n        \"min\": 116895.484375,\n        \"max\": 118827.9609375,\n        \"num_unique_values\": 455,\n        \"samples\": [\n          118783.9453125,\n          117980.84375,\n          117484.203125\n        ],\n        \"semantic_type\": \"\",\n        \"description\": \"\"\n      }\n    },\n    {\n      \"column\": \"High\",\n      \"properties\": {\n        \"dtype\": \"number\",\n        \"std\": 440.3681117303143,\n        \"min\": 116895.484375,\n        \"max\": 118908.4140625,\n        \"num_unique_values\": 456,\n        \"samples\": [\n          117196.9765625,\n          117988.8984375,\n          117735.1953125\n        ],\n        \"semantic_type\": \"\",\n        \"description\": \"\"\n      }\n    },\n    {\n      \"column\": \"Low\",\n      \"properties\": {\n        \"dtype\": \"number\",\n        \"std\": 441.4626004434556,\n        \"min\": 116504.40625,\n        \"max\": 118808.7890625,\n        \"num_unique_values\": 456,\n        \"samples\": [\n          117098.75,\n          117961.2421875,\n          117667.203125\n        ],\n        \"semantic_type\": \"\",\n        \"description\": \"\"\n      }\n    },\n    {\n      \"column\": \"Open\",\n      \"properties\": {\n        \"dtype\": \"number\",\n        \"std\": 447.94737461510243,\n        \"min\": 116504.40625,\n        \"max\": 118895.390625,\n        \"num_unique_values\": 455,\n        \"samples\": [\n          118709.859375,\n          117975.1015625,\n          117293.8046875\n        ],\n        \"semantic_type\": \"\",\n        \"description\": \"\"\n      }\n    },\n    {\n      \"column\": \"Volume\",\n      \"properties\": {\n        \"dtype\": \"number\",\n        \"std\": 558616388,\n        \"min\": 811008,\n        \"max\": 3589799936,\n        \"num_unique_values\": 456,\n        \"samples\": [\n          89128960,\n          1029079040,\n          119685120\n        ],\n        \"semantic_type\": \"\",\n        \"description\": \"\"\n      }\n    }\n  ]\n}"
            }
          },
          "metadata": {},
          "execution_count": 13
        }
      ]
    },
    {
      "cell_type": "code",
      "execution_count": null,
      "metadata": {
        "id": "Mk7p1AmiktjT",
        "colab": {
          "base_uri": "https://localhost:8080/",
          "height": 453
        },
        "outputId": "1674dfe9-6ea0-4399-b139-d92dac230bf9"
      },
      "outputs": [
        {
          "output_type": "display_data",
          "data": {
            "text/plain": [
              "<Figure size 640x480 with 1 Axes>"
            ],
            "image/png": "[encoded data removed]"
          },
          "metadata": {}
        }
      ],
      "source": [
        "df_limpio.boxplot('Close');\n",
        "plt.title(\"Distribución del precio de cierre (con filtrar)\");"
      ]
    },
    {
      "cell_type": "markdown",
      "metadata": {
        "id": "CZ1vInIEmauy"
      },
      "source": [
        "# **4. Toma de decisiones**"
      ]
    },
    {
      "cell_type": "code",
      "execution_count": null,
      "metadata": {
        "id": "inK_pHkQnXCa"
      },
      "outputs": [],
      "source": [
        "def tomar_decision(media_bitcoin: float, tendencia: str ) -> str:\n",
        "\n",
        "  if precio_actual >= media_bitcoin and tendencia == 'baja':\n",
        "    return 'Vender'\n",
        "  elif precio_actual < media_bitcoin and tendencia == 'alta':\n",
        "    return 'Comprar'\n",
        "  else:\n",
        "    return 'Esperar'"
      ]
    },
    {
      "cell_type": "code",
      "execution_count": null,
      "metadata": {
        "id": "tFGGFbjy84iy",
        "colab": {
          "base_uri": "https://localhost:8080/"
        },
        "outputId": "1b2ca934-0e64-428e-fea2-9f1bfc34d150"
      },
      "outputs": [
        {
          "output_type": "stream",
          "name": "stdout",
          "text": [
            "La decisión a tomar es: Vender\n"
          ]
        }
      ],
      "source": [
        "decision = tomar_decision(precio_medio, tendencia)\n",
        "print(f'La decisión a tomar es: {decision}')"
      ]
    },
    {
      "cell_type": "markdown",
      "metadata": {
        "id": "rtE3Suqus904"
      },
      "source": [
        "# **5. Visualización**"
      ]
    },
    {
      "cell_type": "code",
      "execution_count": null,
      "metadata": {
        "id": "ReY3L8xKtFjM"
      },
      "outputs": [],
      "source": [
        "def visualizacion(df: pd.DataFrame, media: float, tendencia: str, algoritmo_decision:str) ->  None:\n",
        "\n",
        "  df_copy = df.copy()\n",
        "  # Añadiendo una nueva columna\n",
        "  df_copy['Promedio'] = media\n",
        "\n",
        "  # Configuración del gráfico\n",
        "  plt.style.use(\"dark_background\")\n",
        "  plt.figure(figsize=(16,5))\n",
        "  plt.title('Precio cierre del Bitcoin en los últimos 7 días')\n",
        "  plt.plot(df_copy.index, df_copy.Close, linewidth = 0.85, color = '#ffffff');\n",
        "  plt.plot(df_copy.index, df_copy.Promedio, color = 'orange', linestyle = '--');\n",
        "  plt.legend(['Precio cierre del Bitcoin', 'Promedio'])\n",
        "  plt.grid(True, lw = 0.25, ls = '--')\n",
        "\n",
        "  color = 'green' if algoritmo_decision == 'Vender' else 'blue' if algoritmo_decision == 'Comprar' else 'red'\n",
        "  plt.annotate(algoritmo_decision,\n",
        "               xy=(df_copy.index[-1],df_copy.Close.iloc[-1]),\n",
        "               xytext=(df_copy.index[-1], df_copy.Close.iloc[-1]-1500),\n",
        "               arrowprops=dict(facecolor=color, shrink=.1, width = 3, headwidth = 8),\n",
        "               horizontalalignment='center')\n",
        "\n",
        "  plt.show()\n"
      ]
    },
    {
      "cell_type": "code",
      "execution_count": null,
      "metadata": {
        "id": "GhrmBp181aEk",
        "colab": {
          "base_uri": "https://localhost:8080/",
          "height": 468
        },
        "outputId": "3edfbc16-4b55-433c-b774-0055e9835723"
      },
      "outputs": [
        {
          "output_type": "display_data",
          "data": {
            "text/plain": [
              "<Figure size 1600x500 with 1 Axes>"
            ],
            "image/png": "[encoded data removed]"
          },
          "metadata": {}
        }
      ],
      "source": [
        "visualizacion(df_bitcoin, precio_medio, tendencia, decision)"
      ]
    },
    {
      "cell_type": "markdown",
      "metadata": {
        "id": "QQrPGQgz95k2"
      },
      "source": [
        "## **6. Automatización**"
      ]
    },
    {
      "cell_type": "code",
      "execution_count": null,
      "metadata": {
        "id": "65QEc7lh-Kxh"
      },
      "outputs": [],
      "source": [
        "from IPython.display import clear_output\n",
        "import time\n",
        "import sys"
      ]
    },
    {
      "cell_type": "code",
      "execution_count": null,
      "metadata": {
        "id": "EfGg0dDF-hRo"
      },
      "outputs": [],
      "source": [
        "def bot_trader(tiempo_actualizacion: int = 300) -> None:\n",
        "  \"\"\"\n",
        "    tiempo_actualizacion: En segundos, representa cada cuanto tiempo se va a actualizar la información.\n",
        "    Ejemplo: tiempo_actualizacion = 300 significa que se actualizará la información cada 5 minutos.\n",
        "  \"\"\"\n",
        "\n",
        "  while(True):\n",
        "      clear_output()\n",
        "      df_bitcoin = dataframe_bitcoin()\n",
        "      df_bitcoin = ajuste_columns(df_bitcoin)\n",
        "      precio_actual, tendencia = extraer_tendencias()\n",
        "      precio_medio, df_limpio = limpieza_datos(df_bitcoin)\n",
        "      decision = tomar_decision(precio_medio, tendencia)\n",
        "\n",
        "      print(f'\\n\\nPrecio actual: ${precio_actual} USD')\n",
        "      print(f'Tendencia: {tendencia}')\n",
        "      print(f'El precio medio del Bitcoin es: ${precio_medio:.2f} USD')\n",
        "      print(f'La decisión a tomar es: {decision}\\n')\n",
        "\n",
        "      visualizacion(df_bitcoin, precio_medio, tendencia, decision)\n",
        "      try:\n",
        "        print('')\n",
        "        for i in range(tiempo_actualizacion, 0, -1):\n",
        "            sys.stdout.write(f\"\\rPróxima actualización en: {i} segundos\")\n",
        "            sys.stdout.flush()\n",
        "            time.sleep(1)\n",
        "        sys.stdout.write(\"\\rActualizando ahora...\\n\")\n",
        "        sys.stdout.flush()\n",
        "      except KeyboardInterrupt:\n",
        "        print(\"\\n\\n>> Ejecución detenida\")\n",
        "        break"
      ]
    },
    {
      "cell_type": "code",
      "source": [
        "bot_trader()"
      ],
      "metadata": {
        "colab": {
          "base_uri": "https://localhost:8080/",
          "height": 726
        },
        "id": "POA3JT8w_vhW",
        "outputId": "4686d795-b11d-4844-8790-9f4ad3a5c091"
      },
      "execution_count": null,
      "outputs": [
        {
          "output_type": "stream",
          "name": "stderr",
          "text": [
            "/tmp/ipython-input-2-2938597639.py:3: FutureWarning: YF.download() has changed argument auto_adjust default to True\n",
            "  return yf.download('BTC-USD', period= '7d', interval='5m')\n",
            "[*********************100%***********************]  1 of 1 completed\n"
          ]
        },
        {
          "output_type": "stream",
          "name": "stdout",
          "text": [
            "\n",
            "\n",
            "Precio actual: $118701.75 USD\n",
            "Tendencia: baja\n",
            "El precio medio del Bitcoin es: $117788.60 USD\n",
            "La decisión a tomar es: Vender\n",
            "\n"
          ]
        },
        {
          "output_type": "display_data",
          "data": {
            "text/plain": [
              "<Figure size 1600x500 with 1 Axes>"
            ],
            "image/png": "[encoded data removed]"
          },
          "metadata": {}
        },
        {
          "output_type": "stream",
          "name": "stdout",
          "text": [
            "\n",
            "Próxima actualización en: 9 segundos\n",
            "\n",
            ">> Ejecución detenida\n"
          ]
        }
      ]
    },
    {
      "cell_type": "code",
      "source": [],
      "metadata": {
        "id": "-7fA4VycZtbW"
      },
      "execution_count": null,
      "outputs": []
    }
  ],
  "metadata": {
    "colab": {
      "provenance": [],
      "authorship_tag": "ABX9TyPkQsV42o3lh1Izf0D53eBZ",
      "include_colab_link": true
    },
    "kernelspec": {
      "display_name": "Python 3",
      "name": "python3"
    },
    "language_info": {
      "name": "python"
    }
  },
  "nbformat": 4,
  "nbformat_minor": 0
}