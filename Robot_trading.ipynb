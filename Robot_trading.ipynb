{
  "cells": [
    {
      "cell_type": "markdown",
      "metadata": {
        "id": "view-in-github",
        "colab_type": "text"
      },
      "source": [
        "<a href=\"https://colab.research.google.com/github/RicardxJMG/Simple-Robot-Trading/blob/main/Robot_trading.ipynb\" target=\"_parent\"><img src=\"https://colab.research.google.com/assets/colab-badge.svg\" alt=\"Open In Colab\"/></a>"
      ]
    },
    {
      "cell_type": "markdown",
      "metadata": {
        "id": "I8I6zkmj82TP"
      },
      "source": [
        "# **1. Configuración del ambiente**"
      ]
    },
    {
      "cell_type": "code",
      "execution_count": 26,
      "metadata": {
        "id": "mFr_5eh59XBk"
      },
      "outputs": [],
      "source": [
        "import pandas as pd\n",
        "import numpy as np\n",
        "import matplotlib.pyplot as plt\n",
        "import requests\n",
        "import yfinance as yf\n",
        "from bs4 import BeautifulSoup as bs\n",
        "# from datetime import date, timedelta"
      ]
    },
    {
      "cell_type": "markdown",
      "metadata": {
        "id": "j6X90ILU9XOX"
      },
      "source": [
        "# **2. Obtención de los datos**"
      ]
    },
    {
      "cell_type": "markdown",
      "metadata": {
        "id": "vvl2INv-rSdk"
      },
      "source": [
        "## **2.1 Precios Historicos del Bitcoin**"
      ]
    },
    {
      "cell_type": "markdown",
      "metadata": {
        "id": "xvUtvBsnxEtQ"
      },
      "source": [
        "Se cargarán los precios (en dólares ) históricos del Bitcoin en de los últimos 7 días en un intervalo de 5 minutos."
      ]
    },
    {
      "cell_type": "code",
      "execution_count": 27,
      "metadata": {
        "id": "HGrbOiAp9XTH"
      },
      "outputs": [],
      "source": [
        "# Obteniendo datos historicos del Bitcoin\n",
        "def dataframe_bitcoin() -> pd.DataFrame():\n",
        "  return yf.download('BTC-USD', period= '7d', interval='5m')"
      ]
    },
    {
      "cell_type": "code",
      "execution_count": 28,
      "metadata": {
        "colab": {
          "base_uri": "https://localhost:8080/",
          "height": 286
        },
        "id": "jWXSktNpN13L",
        "outputId": "30f5e564-86c4-445e-acfb-cabdcb59f47b"
      },
      "outputs": [
        {
          "output_type": "stream",
          "name": "stderr",
          "text": [
            "\r[*********************100%***********************]  1 of 1 completed\n"
          ]
        },
        {
          "output_type": "execute_result",
          "data": {
            "text/plain": [
              "Price                              Close           High            Low  \\\n",
              "Ticker                           BTC-USD        BTC-USD        BTC-USD   \n",
              "Datetime                                                                 \n",
              "2025-06-06 00:00:00+00:00  101494.406250  101557.062500  101494.406250   \n",
              "2025-06-06 00:05:00+00:00  101504.226562  101519.476562  101494.226562   \n",
              "2025-06-06 00:10:00+00:00  101426.351562  101469.960938  101426.351562   \n",
              "2025-06-06 00:15:00+00:00  101425.398438  101425.398438  101272.953125   \n",
              "2025-06-06 00:20:00+00:00  101438.281250  101438.281250  101277.468750   \n",
              "\n",
              "Price                               Open      Volume  \n",
              "Ticker                           BTC-USD     BTC-USD  \n",
              "Datetime                                              \n",
              "2025-06-06 00:00:00+00:00  101543.820312           0  \n",
              "2025-06-06 00:05:00+00:00  101494.226562  1426272256  \n",
              "2025-06-06 00:10:00+00:00  101469.960938    55136256  \n",
              "2025-06-06 00:15:00+00:00  101339.218750  1032847360  \n",
              "2025-06-06 00:20:00+00:00  101392.085938    77598720  "
            ],
            "text/html": [
              "\n",
              "  <div id=\"df-60628ff0-e3bf-4443-8a41-fd93959438b6\" class=\"colab-df-container\">\n",
              "    <div>\n",
              "<style scoped>\n",
              "    .dataframe tbody tr th:only-of-type {\n",
              "        vertical-align: middle;\n",
              "    }\n",
              "\n",
              "    .dataframe tbody tr th {\n",
              "        vertical-align: top;\n",
              "    }\n",
              "\n",
              "    .dataframe thead tr th {\n",
              "        text-align: left;\n",
              "    }\n",
              "\n",
              "    .dataframe thead tr:last-of-type th {\n",
              "        text-align: right;\n",
              "    }\n",
              "</style>\n",
              "<table border=\"1\" class=\"dataframe\">\n",
              "  <thead>\n",
              "    <tr>\n",
              "      <th>Price</th>\n",
              "      <th>Close</th>\n",
              "      <th>High</th>\n",
              "      <th>Low</th>\n",
              "      <th>Open</th>\n",
              "      <th>Volume</th>\n",
              "    </tr>\n",
              "    <tr>\n",
              "      <th>Ticker</th>\n",
              "      <th>BTC-USD</th>\n",
              "      <th>BTC-USD</th>\n",
              "      <th>BTC-USD</th>\n",
              "      <th>BTC-USD</th>\n",
              "      <th>BTC-USD</th>\n",
              "    </tr>\n",
              "    <tr>\n",
              "      <th>Datetime</th>\n",
              "      <th></th>\n",
              "      <th></th>\n",
              "      <th></th>\n",
              "      <th></th>\n",
              "      <th></th>\n",
              "    </tr>\n",
              "  </thead>\n",
              "  <tbody>\n",
              "    <tr>\n",
              "      <th>2025-06-06 00:00:00+00:00</th>\n",
              "      <td>101494.406250</td>\n",
              "      <td>101557.062500</td>\n",
              "      <td>101494.406250</td>\n",
              "      <td>101543.820312</td>\n",
              "      <td>0</td>\n",
              "    </tr>\n",
              "    <tr>\n",
              "      <th>2025-06-06 00:05:00+00:00</th>\n",
              "      <td>101504.226562</td>\n",
              "      <td>101519.476562</td>\n",
              "      <td>101494.226562</td>\n",
              "      <td>101494.226562</td>\n",
              "      <td>1426272256</td>\n",
              "    </tr>\n",
              "    <tr>\n",
              "      <th>2025-06-06 00:10:00+00:00</th>\n",
              "      <td>101426.351562</td>\n",
              "      <td>101469.960938</td>\n",
              "      <td>101426.351562</td>\n",
              "      <td>101469.960938</td>\n",
              "      <td>55136256</td>\n",
              "    </tr>\n",
              "    <tr>\n",
              "      <th>2025-06-06 00:15:00+00:00</th>\n",
              "      <td>101425.398438</td>\n",
              "      <td>101425.398438</td>\n",
              "      <td>101272.953125</td>\n",
              "      <td>101339.218750</td>\n",
              "      <td>1032847360</td>\n",
              "    </tr>\n",
              "    <tr>\n",
              "      <th>2025-06-06 00:20:00+00:00</th>\n",
              "      <td>101438.281250</td>\n",
              "      <td>101438.281250</td>\n",
              "      <td>101277.468750</td>\n",
              "      <td>101392.085938</td>\n",
              "      <td>77598720</td>\n",
              "    </tr>\n",
              "  </tbody>\n",
              "</table>\n",
              "</div>\n",
              "    <div class=\"colab-df-buttons\">\n",
              "\n",
              "  <div class=\"colab-df-container\">\n",
              "    <button class=\"colab-df-convert\" onclick=\"convertToInteractive('df-60628ff0-e3bf-4443-8a41-fd93959438b6')\"\n",
              "            title=\"Convert this dataframe to an interactive table.\"\n",
              "            style=\"display:none;\">\n",
              "\n",
              "  <svg xmlns=\"http://www.w3.org/2000/svg\" height=\"24px\" viewBox=\"0 -960 960 960\">\n",
              "    <path d=\"M120-120v-720h720v720H120Zm60-500h600v-160H180v160Zm220 220h160v-160H400v160Zm0 220h160v-160H400v160ZM180-400h160v-160H180v160Zm440 0h160v-160H620v160ZM180-180h160v-160H180v160Zm440 0h160v-160H620v160Z\"/>\n",
              "  </svg>\n",
              "    </button>\n",
              "\n",
              "  <style>\n",
              "    .colab-df-container {\n",
              "      display:flex;\n",
              "      gap: 12px;\n",
              "    }\n",
              "\n",
              "    .colab-df-convert {\n",
              "      background-color: #E8F0FE;\n",
              "      border: none;\n",
              "      border-radius: 50%;\n",
              "      cursor: pointer;\n",
              "      display: none;\n",
              "      fill: #1967D2;\n",
              "      height: 32px;\n",
              "      padding: 0 0 0 0;\n",
              "      width: 32px;\n",
              "    }\n",
              "\n",
              "    .colab-df-convert:hover {\n",
              "      background-color: #E2EBFA;\n",
              "      box-shadow: 0px 1px 2px rgba(60, 64, 67, 0.3), 0px 1px 3px 1px rgba(60, 64, 67, 0.15);\n",
              "      fill: #174EA6;\n",
              "    }\n",
              "\n",
              "    .colab-df-buttons div {\n",
              "      margin-bottom: 4px;\n",
              "    }\n",
              "\n",
              "    [theme=dark] .colab-df-convert {\n",
              "      background-color: #3B4455;\n",
              "      fill: #D2E3FC;\n",
              "    }\n",
              "\n",
              "    [theme=dark] .colab-df-convert:hover {\n",
              "      background-color: #434B5C;\n",
              "      box-shadow: 0px 1px 3px 1px rgba(0, 0, 0, 0.15);\n",
              "      filter: drop-shadow(0px 1px 2px rgba(0, 0, 0, 0.3));\n",
              "      fill: #FFFFFF;\n",
              "    }\n",
              "  </style>\n",
              "\n",
              "    <script>\n",
              "      const buttonEl =\n",
              "        document.querySelector('#df-60628ff0-e3bf-4443-8a41-fd93959438b6 button.colab-df-convert');\n",
              "      buttonEl.style.display =\n",
              "        google.colab.kernel.accessAllowed ? 'block' : 'none';\n",
              "\n",
              "      async function convertToInteractive(key) {\n",
              "        const element = document.querySelector('#df-60628ff0-e3bf-4443-8a41-fd93959438b6');\n",
              "        const dataTable =\n",
              "          await google.colab.kernel.invokeFunction('convertToInteractive',\n",
              "                                                    [key], {});\n",
              "        if (!dataTable) return;\n",
              "\n",
              "        const docLinkHtml = 'Like what you see? Visit the ' +\n",
              "          '<a target=\"_blank\" href=https://colab.research.google.com/notebooks/data_table.ipynb>data table notebook</a>'\n",
              "          + ' to learn more about interactive tables.';\n",
              "        element.innerHTML = '';\n",
              "        dataTable['output_type'] = 'display_data';\n",
              "        await google.colab.output.renderOutput(dataTable, element);\n",
              "        const docLink = document.createElement('div');\n",
              "        docLink.innerHTML = docLinkHtml;\n",
              "        element.appendChild(docLink);\n",
              "      }\n",
              "    </script>\n",
              "  </div>\n",
              "\n",
              "\n",
              "    <div id=\"df-c6bc4351-edca-45cc-a2ce-c2b397374c56\">\n",
              "      <button class=\"colab-df-quickchart\" onclick=\"quickchart('df-c6bc4351-edca-45cc-a2ce-c2b397374c56')\"\n",
              "                title=\"Suggest charts\"\n",
              "                style=\"display:none;\">\n",
              "\n",
              "<svg xmlns=\"http://www.w3.org/2000/svg\" height=\"24px\"viewBox=\"0 0 24 24\"\n",
              "     width=\"24px\">\n",
              "    <g>\n",
              "        <path d=\"M19 3H5c-1.1 0-2 .9-2 2v14c0 1.1.9 2 2 2h14c1.1 0 2-.9 2-2V5c0-1.1-.9-2-2-2zM9 17H7v-7h2v7zm4 0h-2V7h2v10zm4 0h-2v-4h2v4z\"/>\n",
              "    </g>\n",
              "</svg>\n",
              "      </button>\n",
              "\n",
              "<style>\n",
              "  .colab-df-quickchart {\n",
              "      --bg-color: #E8F0FE;\n",
              "      --fill-color: #1967D2;\n",
              "      --hover-bg-color: #E2EBFA;\n",
              "      --hover-fill-color: #174EA6;\n",
              "      --disabled-fill-color: #AAA;\n",
              "      --disabled-bg-color: #DDD;\n",
              "  }\n",
              "\n",
              "  [theme=dark] .colab-df-quickchart {\n",
              "      --bg-color: #3B4455;\n",
              "      --fill-color: #D2E3FC;\n",
              "      --hover-bg-color: #434B5C;\n",
              "      --hover-fill-color: #FFFFFF;\n",
              "      --disabled-bg-color: #3B4455;\n",
              "      --disabled-fill-color: #666;\n",
              "  }\n",
              "\n",
              "  .colab-df-quickchart {\n",
              "    background-color: var(--bg-color);\n",
              "    border: none;\n",
              "    border-radius: 50%;\n",
              "    cursor: pointer;\n",
              "    display: none;\n",
              "    fill: var(--fill-color);\n",
              "    height: 32px;\n",
              "    padding: 0;\n",
              "    width: 32px;\n",
              "  }\n",
              "\n",
              "  .colab-df-quickchart:hover {\n",
              "    background-color: var(--hover-bg-color);\n",
              "    box-shadow: 0 1px 2px rgba(60, 64, 67, 0.3), 0 1px 3px 1px rgba(60, 64, 67, 0.15);\n",
              "    fill: var(--button-hover-fill-color);\n",
              "  }\n",
              "\n",
              "  .colab-df-quickchart-complete:disabled,\n",
              "  .colab-df-quickchart-complete:disabled:hover {\n",
              "    background-color: var(--disabled-bg-color);\n",
              "    fill: var(--disabled-fill-color);\n",
              "    box-shadow: none;\n",
              "  }\n",
              "\n",
              "  .colab-df-spinner {\n",
              "    border: 2px solid var(--fill-color);\n",
              "    border-color: transparent;\n",
              "    border-bottom-color: var(--fill-color);\n",
              "    animation:\n",
              "      spin 1s steps(1) infinite;\n",
              "  }\n",
              "\n",
              "  @keyframes spin {\n",
              "    0% {\n",
              "      border-color: transparent;\n",
              "      border-bottom-color: var(--fill-color);\n",
              "      border-left-color: var(--fill-color);\n",
              "    }\n",
              "    20% {\n",
              "      border-color: transparent;\n",
              "      border-left-color: var(--fill-color);\n",
              "      border-top-color: var(--fill-color);\n",
              "    }\n",
              "    30% {\n",
              "      border-color: transparent;\n",
              "      border-left-color: var(--fill-color);\n",
              "      border-top-color: var(--fill-color);\n",
              "      border-right-color: var(--fill-color);\n",
              "    }\n",
              "    40% {\n",
              "      border-color: transparent;\n",
              "      border-right-color: var(--fill-color);\n",
              "      border-top-color: var(--fill-color);\n",
              "    }\n",
              "    60% {\n",
              "      border-color: transparent;\n",
              "      border-right-color: var(--fill-color);\n",
              "    }\n",
              "    80% {\n",
              "      border-color: transparent;\n",
              "      border-right-color: var(--fill-color);\n",
              "      border-bottom-color: var(--fill-color);\n",
              "    }\n",
              "    90% {\n",
              "      border-color: transparent;\n",
              "      border-bottom-color: var(--fill-color);\n",
              "    }\n",
              "  }\n",
              "</style>\n",
              "\n",
              "      <script>\n",
              "        async function quickchart(key) {\n",
              "          const quickchartButtonEl =\n",
              "            document.querySelector('#' + key + ' button');\n",
              "          quickchartButtonEl.disabled = true;  // To prevent multiple clicks.\n",
              "          quickchartButtonEl.classList.add('colab-df-spinner');\n",
              "          try {\n",
              "            const charts = await google.colab.kernel.invokeFunction(\n",
              "                'suggestCharts', [key], {});\n",
              "          } catch (error) {\n",
              "            console.error('Error during call to suggestCharts:', error);\n",
              "          }\n",
              "          quickchartButtonEl.classList.remove('colab-df-spinner');\n",
              "          quickchartButtonEl.classList.add('colab-df-quickchart-complete');\n",
              "        }\n",
              "        (() => {\n",
              "          let quickchartButtonEl =\n",
              "            document.querySelector('#df-c6bc4351-edca-45cc-a2ce-c2b397374c56 button');\n",
              "          quickchartButtonEl.style.display =\n",
              "            google.colab.kernel.accessAllowed ? 'block' : 'none';\n",
              "        })();\n",
              "      </script>\n",
              "    </div>\n",
              "\n",
              "    </div>\n",
              "  </div>\n"
            ],
            "application/vnd.google.colaboratory.intrinsic+json": {
              "type": "dataframe",
              "variable_name": "df_bitcoin",
              "summary": "{\n  \"name\": \"df_bitcoin\",\n  \"rows\": 1996,\n  \"fields\": [\n    {\n      \"column\": [\n        \"Datetime\",\n        \"\"\n      ],\n      \"properties\": {\n        \"dtype\": \"date\",\n        \"min\": \"2025-06-06 00:00:00+00:00\",\n        \"max\": \"2025-06-12 22:15:00+00:00\",\n        \"num_unique_values\": 1996,\n        \"samples\": [\n          \"2025-06-09 02:05:00+00:00\",\n          \"2025-06-11 19:30:00+00:00\",\n          \"2025-06-07 10:30:00+00:00\"\n        ],\n        \"semantic_type\": \"\",\n        \"description\": \"\"\n      }\n    },\n    {\n      \"column\": [\n        \"Close\",\n        \"BTC-USD\"\n      ],\n      \"properties\": {\n        \"dtype\": \"number\",\n        \"std\": 2141.5782125027977,\n        \"min\": 101425.3984375,\n        \"max\": 110377.3671875,\n        \"num_unique_values\": 1991,\n        \"samples\": [\n          105602.96875,\n          108759.359375,\n          105172.0703125\n        ],\n        \"semantic_type\": \"\",\n        \"description\": \"\"\n      }\n    },\n    {\n      \"column\": [\n        \"High\",\n        \"BTC-USD\"\n      ],\n      \"properties\": {\n        \"dtype\": \"number\",\n        \"std\": 2147.7217644245193,\n        \"min\": 101425.3984375,\n        \"max\": 110393.71875,\n        \"num_unique_values\": 1992,\n        \"samples\": [\n          105718.2421875,\n          108724.96875,\n          105144.4453125\n        ],\n        \"semantic_type\": \"\",\n        \"description\": \"\"\n      }\n    },\n    {\n      \"column\": [\n        \"Low\",\n        \"BTC-USD\"\n      ],\n      \"properties\": {\n        \"dtype\": \"number\",\n        \"std\": 2135.915773280478,\n        \"min\": 101272.953125,\n        \"max\": 110286.0703125,\n        \"num_unique_values\": 1989,\n        \"samples\": [\n          109496.8125,\n          109120.078125,\n          106004.7109375\n        ],\n        \"semantic_type\": \"\",\n        \"description\": \"\"\n      }\n    },\n    {\n      \"column\": [\n        \"Open\",\n        \"BTC-USD\"\n      ],\n      \"properties\": {\n        \"dtype\": \"number\",\n        \"std\": 2143.1628845161854,\n        \"min\": 101339.21875,\n        \"max\": 110383.3046875,\n        \"num_unique_values\": 1993,\n        \"samples\": [\n          105632.3671875,\n          108917.1484375,\n          105144.4453125\n        ],\n        \"semantic_type\": \"\",\n        \"description\": \"\"\n      }\n    },\n    {\n      \"column\": [\n        \"Volume\",\n        \"BTC-USD\"\n      ],\n      \"properties\": {\n        \"dtype\": \"number\",\n        \"std\": 617689698,\n        \"min\": 0,\n        \"max\": 19344457728,\n        \"num_unique_values\": 1013,\n        \"samples\": [\n          1350451200,\n          81715200,\n          898977792\n        ],\n        \"semantic_type\": \"\",\n        \"description\": \"\"\n      }\n    }\n  ]\n}"
            }
          },
          "metadata": {},
          "execution_count": 28
        }
      ],
      "source": [
        "df_bitcoin = dataframe_bitcoin()\n",
        "df_bitcoin.head(5)"
      ]
    },
    {
      "cell_type": "markdown",
      "metadata": {
        "id": "E0sOXqr42uC4"
      },
      "source": [
        "Para entender mejor el contenido del dataframe:\n",
        "* **Datetime:** Es el índice del dataframe, y contiene la fecha y hora del intervalo seleccionado, no puede estar duplicado.\n",
        "* **Open:** Contiene el precio del Bitcoin al inicio del intervalo.\n",
        "* **High:** Contiene el precio más alto del Bitcoin durante el intervalo.\n",
        "* **Low:** Contiene el precio más bajo del Bitcoin durante el intervalo.\n",
        "* **Close:** Contiene el precio del Bitcoin al final del intervalo.\n",
        "* **Volume:** Contiene el total de transacciones hechas durante el intervalo.\n",
        "\n"
      ]
    },
    {
      "cell_type": "markdown",
      "metadata": {
        "id": "Im8dTzSYNUOa"
      },
      "source": [
        "## **2.2 Extrayendo precio actual y tendencia del Bitcoin.**"
      ]
    },
    {
      "cell_type": "markdown",
      "source": [
        "Para conocer el precio real y la tendencia de BitCoin, nos basaremos en los datos de la página de [CoinMarketCap](https://coinmarketcap.com/)"
      ],
      "metadata": {
        "id": "1XAcdtifVK95"
      }
    },
    {
      "cell_type": "code",
      "execution_count": 29,
      "metadata": {
        "id": "oxat6DUmrqL1"
      },
      "outputs": [],
      "source": [
        "def extraer_tendencias() -> tuple[float, str]:\n",
        "  precio_actual: float = 0\n",
        "  tendencia: str = \"\"\n",
        "\n",
        "  url: str = 'https://coinmarketcap.com/'\n",
        "\n",
        "  respuesta = requests.get(url)\n",
        "\n",
        "  if respuesta.status_code == 200:\n",
        "    s: bs = bs(respuesta.text, 'html.parser')\n",
        "    #Obteniendo los span de la primera fila de la tabla de coinmarketcap.com\n",
        "    html_row = s.find_all(\"tbody\")[0]\n",
        "\n",
        "    cripto_row = html_row.find(\"a\", href=\"/currencies/bitcoin/\").find_parent(\"tr\").find_all(\"td\")\n",
        "    #  el tercer indice contiene el prcio actual de la criptomoneda\n",
        "    #  el cuarto indice contiene la tencdencia actual\n",
        "\n",
        "    precio_actual = float(cripto_row[3].text.replace('$', '').replace(',',''))\n",
        "    tendencia_td = cripto_row[4].find(\"span\")\n",
        "\n",
        "    if tendencia_td.attrs['class'][0] == \"icon-Caret-up\":\n",
        "      tendencia = 'alta'\n",
        "    else:\n",
        "      tendencia = 'baja'\n",
        "\n",
        "    return (precio_actual, tendencia)\n",
        "  else:\n",
        "    print(\"Error al cargar la página de CoinMarketCap\")\n",
        "    return (precio_actual, tendencia)"
      ]
    },
    {
      "cell_type": "code",
      "execution_count": 30,
      "metadata": {
        "colab": {
          "base_uri": "https://localhost:8080/"
        },
        "id": "UxQfd4jKPtW6",
        "outputId": "00b96e8f-89c4-4646-e548-2a578df4be8b"
      },
      "outputs": [
        {
          "output_type": "stream",
          "name": "stdout",
          "text": [
            "Precio actual: 106033.2\n",
            "Tendencia: baja\n"
          ]
        }
      ],
      "source": [
        "precio_actual, tendencia = extraer_tendencias()\n",
        "print(f'Precio actual: {precio_actual}')\n",
        "print(f'Tendencia: {tendencia}')"
      ]
    },
    {
      "cell_type": "markdown",
      "metadata": {
        "id": "YumS77qUSKb4"
      },
      "source": [
        "# **3. Limpieza de datos**"
      ]
    },
    {
      "cell_type": "markdown",
      "metadata": {
        "id": "-g6DUhF0ZOy9"
      },
      "source": [
        "## **3.1 Análisis antes de la limpieza de datos**"
      ]
    },
    {
      "cell_type": "markdown",
      "metadata": {
        "id": "wxVkLF8m3hXG"
      },
      "source": [
        "La siguiente función imprime la siguiente informacion del dataframe original: La cantidad de registros duplicados, si existen valores nulos en la columna *close* y cuenta el total de registros cuyo *Volume* no es mayor a cero, i.e, aquellos registros en que no se hizo ninguna transacción."
      ]
    },
    {
      "cell_type": "code",
      "execution_count": 31,
      "metadata": {
        "id": "WDrNWSOc5mCO",
        "colab": {
          "base_uri": "https://localhost:8080/"
        },
        "outputId": "5a59b7b8-f108-4ccb-ef51-d2a1ab5df91b"
      },
      "outputs": [
        {
          "output_type": "stream",
          "name": "stdout",
          "text": [
            "Análisis del dataframe original:\n",
            "\n",
            "  - El dataframe contiene 1996 registros.\n",
            "  - Existen 0 indices repetidos.\n",
            "  - Existen valores nulos en la columna \"Close\": No\n",
            "  - Registros que tengan registros Volume de transacción menor o igual a cero: 980\n"
          ]
        }
      ],
      "source": [
        "def analisis(df: pd.DataFrame):\n",
        "\n",
        "  indices_repetidos = df.duplicated().sum()\n",
        "  valores_nulos_close = 'Si' if df.Close.isna().any().any() == True else \"No\"\n",
        "  registros_cero = df.Volume[df.Volume <= 0].count().to_list()[0]\n",
        "\n",
        "  print('Análisis del dataframe original:')\n",
        "  print(f'\\n  - El dataframe contiene {df.shape[0]} registros.')\n",
        "  print(f'  - Existen {indices_repetidos} indices repetidos.')\n",
        "  print(f'  - Existen valores nulos en la columna \"Close\": {valores_nulos_close}')\n",
        "  print(f'  - Registros que tengan registros Volume de transacción menor o igual a cero: {registros_cero}')\n",
        "\n",
        "analisis(df_bitcoin)"
      ]
    },
    {
      "cell_type": "code",
      "execution_count": 32,
      "metadata": {
        "id": "pPerkQiHeUUV",
        "colab": {
          "base_uri": "https://localhost:8080/"
        },
        "outputId": "66f8fa95-ba6d-4fec-d4db-afd710786dce"
      },
      "outputs": [
        {
          "output_type": "stream",
          "name": "stdout",
          "text": [
            "<class 'pandas.core.frame.DataFrame'>\n",
            "DatetimeIndex: 1996 entries, 2025-06-06 00:00:00+00:00 to 2025-06-12 22:15:00+00:00\n",
            "Data columns (total 5 columns):\n",
            " #   Column             Non-Null Count  Dtype  \n",
            "---  ------             --------------  -----  \n",
            " 0   (Close, BTC-USD)   1996 non-null   float64\n",
            " 1   (High, BTC-USD)    1996 non-null   float64\n",
            " 2   (Low, BTC-USD)     1996 non-null   float64\n",
            " 3   (Open, BTC-USD)    1996 non-null   float64\n",
            " 4   (Volume, BTC-USD)  1996 non-null   int64  \n",
            "dtypes: float64(4), int64(1)\n",
            "memory usage: 93.6 KB\n"
          ]
        }
      ],
      "source": [
        "df_bitcoin.info()"
      ]
    },
    {
      "cell_type": "markdown",
      "source": [
        "Antes de la limpieza de datos, ajustemos el multiindice del dataframe"
      ],
      "metadata": {
        "id": "5ASarxbQebBg"
      }
    },
    {
      "cell_type": "code",
      "source": [
        "def ajuste_columns(df: pd.DataFrame) -> pd.DataFrame:\n",
        "  df_copy = df.copy()\n",
        "  df_copy.columns = [f'{level_1}' for level_1, level_2 in df_copy.columns]\n",
        "  return df_copy"
      ],
      "metadata": {
        "id": "CHVlRsG_4SB2"
      },
      "execution_count": 33,
      "outputs": []
    },
    {
      "cell_type": "code",
      "source": [
        "copy_bitcoin = ajuste_columns(df_bitcoin)\n",
        "copy_bitcoin.head(3)"
      ],
      "metadata": {
        "colab": {
          "base_uri": "https://localhost:8080/",
          "height": 175
        },
        "id": "YcJPC8fkethu",
        "outputId": "eb1e6a7b-232a-45cf-a68a-91d394f2e9de"
      },
      "execution_count": 34,
      "outputs": [
        {
          "output_type": "execute_result",
          "data": {
            "text/plain": [
              "                                   Close           High            Low  \\\n",
              "Datetime                                                                 \n",
              "2025-06-06 00:00:00+00:00  101494.406250  101557.062500  101494.406250   \n",
              "2025-06-06 00:05:00+00:00  101504.226562  101519.476562  101494.226562   \n",
              "2025-06-06 00:10:00+00:00  101426.351562  101469.960938  101426.351562   \n",
              "\n",
              "                                    Open      Volume  \n",
              "Datetime                                              \n",
              "2025-06-06 00:00:00+00:00  101543.820312           0  \n",
              "2025-06-06 00:05:00+00:00  101494.226562  1426272256  \n",
              "2025-06-06 00:10:00+00:00  101469.960938    55136256  "
            ],
            "text/html": [
              "\n",
              "  <div id=\"df-c039d697-1159-4c8a-8cdb-ce93daeb4be5\" class=\"colab-df-container\">\n",
              "    <div>\n",
              "<style scoped>\n",
              "    .dataframe tbody tr th:only-of-type {\n",
              "        vertical-align: middle;\n",
              "    }\n",
              "\n",
              "    .dataframe tbody tr th {\n",
              "        vertical-align: top;\n",
              "    }\n",
              "\n",
              "    .dataframe thead th {\n",
              "        text-align: right;\n",
              "    }\n",
              "</style>\n",
              "<table border=\"1\" class=\"dataframe\">\n",
              "  <thead>\n",
              "    <tr style=\"text-align: right;\">\n",
              "      <th></th>\n",
              "      <th>Close</th>\n",
              "      <th>High</th>\n",
              "      <th>Low</th>\n",
              "      <th>Open</th>\n",
              "      <th>Volume</th>\n",
              "    </tr>\n",
              "    <tr>\n",
              "      <th>Datetime</th>\n",
              "      <th></th>\n",
              "      <th></th>\n",
              "      <th></th>\n",
              "      <th></th>\n",
              "      <th></th>\n",
              "    </tr>\n",
              "  </thead>\n",
              "  <tbody>\n",
              "    <tr>\n",
              "      <th>2025-06-06 00:00:00+00:00</th>\n",
              "      <td>101494.406250</td>\n",
              "      <td>101557.062500</td>\n",
              "      <td>101494.406250</td>\n",
              "      <td>101543.820312</td>\n",
              "      <td>0</td>\n",
              "    </tr>\n",
              "    <tr>\n",
              "      <th>2025-06-06 00:05:00+00:00</th>\n",
              "      <td>101504.226562</td>\n",
              "      <td>101519.476562</td>\n",
              "      <td>101494.226562</td>\n",
              "      <td>101494.226562</td>\n",
              "      <td>1426272256</td>\n",
              "    </tr>\n",
              "    <tr>\n",
              "      <th>2025-06-06 00:10:00+00:00</th>\n",
              "      <td>101426.351562</td>\n",
              "      <td>101469.960938</td>\n",
              "      <td>101426.351562</td>\n",
              "      <td>101469.960938</td>\n",
              "      <td>55136256</td>\n",
              "    </tr>\n",
              "  </tbody>\n",
              "</table>\n",
              "</div>\n",
              "    <div class=\"colab-df-buttons\">\n",
              "\n",
              "  <div class=\"colab-df-container\">\n",
              "    <button class=\"colab-df-convert\" onclick=\"convertToInteractive('df-c039d697-1159-4c8a-8cdb-ce93daeb4be5')\"\n",
              "            title=\"Convert this dataframe to an interactive table.\"\n",
              "            style=\"display:none;\">\n",
              "\n",
              "  <svg xmlns=\"http://www.w3.org/2000/svg\" height=\"24px\" viewBox=\"0 -960 960 960\">\n",
              "    <path d=\"M120-120v-720h720v720H120Zm60-500h600v-160H180v160Zm220 220h160v-160H400v160Zm0 220h160v-160H400v160ZM180-400h160v-160H180v160Zm440 0h160v-160H620v160ZM180-180h160v-160H180v160Zm440 0h160v-160H620v160Z\"/>\n",
              "  </svg>\n",
              "    </button>\n",
              "\n",
              "  <style>\n",
              "    .colab-df-container {\n",
              "      display:flex;\n",
              "      gap: 12px;\n",
              "    }\n",
              "\n",
              "    .colab-df-convert {\n",
              "      background-color: #E8F0FE;\n",
              "      border: none;\n",
              "      border-radius: 50%;\n",
              "      cursor: pointer;\n",
              "      display: none;\n",
              "      fill: #1967D2;\n",
              "      height: 32px;\n",
              "      padding: 0 0 0 0;\n",
              "      width: 32px;\n",
              "    }\n",
              "\n",
              "    .colab-df-convert:hover {\n",
              "      background-color: #E2EBFA;\n",
              "      box-shadow: 0px 1px 2px rgba(60, 64, 67, 0.3), 0px 1px 3px 1px rgba(60, 64, 67, 0.15);\n",
              "      fill: #174EA6;\n",
              "    }\n",
              "\n",
              "    .colab-df-buttons div {\n",
              "      margin-bottom: 4px;\n",
              "    }\n",
              "\n",
              "    [theme=dark] .colab-df-convert {\n",
              "      background-color: #3B4455;\n",
              "      fill: #D2E3FC;\n",
              "    }\n",
              "\n",
              "    [theme=dark] .colab-df-convert:hover {\n",
              "      background-color: #434B5C;\n",
              "      box-shadow: 0px 1px 3px 1px rgba(0, 0, 0, 0.15);\n",
              "      filter: drop-shadow(0px 1px 2px rgba(0, 0, 0, 0.3));\n",
              "      fill: #FFFFFF;\n",
              "    }\n",
              "  </style>\n",
              "\n",
              "    <script>\n",
              "      const buttonEl =\n",
              "        document.querySelector('#df-c039d697-1159-4c8a-8cdb-ce93daeb4be5 button.colab-df-convert');\n",
              "      buttonEl.style.display =\n",
              "        google.colab.kernel.accessAllowed ? 'block' : 'none';\n",
              "\n",
              "      async function convertToInteractive(key) {\n",
              "        const element = document.querySelector('#df-c039d697-1159-4c8a-8cdb-ce93daeb4be5');\n",
              "        const dataTable =\n",
              "          await google.colab.kernel.invokeFunction('convertToInteractive',\n",
              "                                                    [key], {});\n",
              "        if (!dataTable) return;\n",
              "\n",
              "        const docLinkHtml = 'Like what you see? Visit the ' +\n",
              "          '<a target=\"_blank\" href=https://colab.research.google.com/notebooks/data_table.ipynb>data table notebook</a>'\n",
              "          + ' to learn more about interactive tables.';\n",
              "        element.innerHTML = '';\n",
              "        dataTable['output_type'] = 'display_data';\n",
              "        await google.colab.output.renderOutput(dataTable, element);\n",
              "        const docLink = document.createElement('div');\n",
              "        docLink.innerHTML = docLinkHtml;\n",
              "        element.appendChild(docLink);\n",
              "      }\n",
              "    </script>\n",
              "  </div>\n",
              "\n",
              "\n",
              "    <div id=\"df-22eede0a-3a3b-4372-bcc8-08cfbecf4ddd\">\n",
              "      <button class=\"colab-df-quickchart\" onclick=\"quickchart('df-22eede0a-3a3b-4372-bcc8-08cfbecf4ddd')\"\n",
              "                title=\"Suggest charts\"\n",
              "                style=\"display:none;\">\n",
              "\n",
              "<svg xmlns=\"http://www.w3.org/2000/svg\" height=\"24px\"viewBox=\"0 0 24 24\"\n",
              "     width=\"24px\">\n",
              "    <g>\n",
              "        <path d=\"M19 3H5c-1.1 0-2 .9-2 2v14c0 1.1.9 2 2 2h14c1.1 0 2-.9 2-2V5c0-1.1-.9-2-2-2zM9 17H7v-7h2v7zm4 0h-2V7h2v10zm4 0h-2v-4h2v4z\"/>\n",
              "    </g>\n",
              "</svg>\n",
              "      </button>\n",
              "\n",
              "<style>\n",
              "  .colab-df-quickchart {\n",
              "      --bg-color: #E8F0FE;\n",
              "      --fill-color: #1967D2;\n",
              "      --hover-bg-color: #E2EBFA;\n",
              "      --hover-fill-color: #174EA6;\n",
              "      --disabled-fill-color: #AAA;\n",
              "      --disabled-bg-color: #DDD;\n",
              "  }\n",
              "\n",
              "  [theme=dark] .colab-df-quickchart {\n",
              "      --bg-color: #3B4455;\n",
              "      --fill-color: #D2E3FC;\n",
              "      --hover-bg-color: #434B5C;\n",
              "      --hover-fill-color: #FFFFFF;\n",
              "      --disabled-bg-color: #3B4455;\n",
              "      --disabled-fill-color: #666;\n",
              "  }\n",
              "\n",
              "  .colab-df-quickchart {\n",
              "    background-color: var(--bg-color);\n",
              "    border: none;\n",
              "    border-radius: 50%;\n",
              "    cursor: pointer;\n",
              "    display: none;\n",
              "    fill: var(--fill-color);\n",
              "    height: 32px;\n",
              "    padding: 0;\n",
              "    width: 32px;\n",
              "  }\n",
              "\n",
              "  .colab-df-quickchart:hover {\n",
              "    background-color: var(--hover-bg-color);\n",
              "    box-shadow: 0 1px 2px rgba(60, 64, 67, 0.3), 0 1px 3px 1px rgba(60, 64, 67, 0.15);\n",
              "    fill: var(--button-hover-fill-color);\n",
              "  }\n",
              "\n",
              "  .colab-df-quickchart-complete:disabled,\n",
              "  .colab-df-quickchart-complete:disabled:hover {\n",
              "    background-color: var(--disabled-bg-color);\n",
              "    fill: var(--disabled-fill-color);\n",
              "    box-shadow: none;\n",
              "  }\n",
              "\n",
              "  .colab-df-spinner {\n",
              "    border: 2px solid var(--fill-color);\n",
              "    border-color: transparent;\n",
              "    border-bottom-color: var(--fill-color);\n",
              "    animation:\n",
              "      spin 1s steps(1) infinite;\n",
              "  }\n",
              "\n",
              "  @keyframes spin {\n",
              "    0% {\n",
              "      border-color: transparent;\n",
              "      border-bottom-color: var(--fill-color);\n",
              "      border-left-color: var(--fill-color);\n",
              "    }\n",
              "    20% {\n",
              "      border-color: transparent;\n",
              "      border-left-color: var(--fill-color);\n",
              "      border-top-color: var(--fill-color);\n",
              "    }\n",
              "    30% {\n",
              "      border-color: transparent;\n",
              "      border-left-color: var(--fill-color);\n",
              "      border-top-color: var(--fill-color);\n",
              "      border-right-color: var(--fill-color);\n",
              "    }\n",
              "    40% {\n",
              "      border-color: transparent;\n",
              "      border-right-color: var(--fill-color);\n",
              "      border-top-color: var(--fill-color);\n",
              "    }\n",
              "    60% {\n",
              "      border-color: transparent;\n",
              "      border-right-color: var(--fill-color);\n",
              "    }\n",
              "    80% {\n",
              "      border-color: transparent;\n",
              "      border-right-color: var(--fill-color);\n",
              "      border-bottom-color: var(--fill-color);\n",
              "    }\n",
              "    90% {\n",
              "      border-color: transparent;\n",
              "      border-bottom-color: var(--fill-color);\n",
              "    }\n",
              "  }\n",
              "</style>\n",
              "\n",
              "      <script>\n",
              "        async function quickchart(key) {\n",
              "          const quickchartButtonEl =\n",
              "            document.querySelector('#' + key + ' button');\n",
              "          quickchartButtonEl.disabled = true;  // To prevent multiple clicks.\n",
              "          quickchartButtonEl.classList.add('colab-df-spinner');\n",
              "          try {\n",
              "            const charts = await google.colab.kernel.invokeFunction(\n",
              "                'suggestCharts', [key], {});\n",
              "          } catch (error) {\n",
              "            console.error('Error during call to suggestCharts:', error);\n",
              "          }\n",
              "          quickchartButtonEl.classList.remove('colab-df-spinner');\n",
              "          quickchartButtonEl.classList.add('colab-df-quickchart-complete');\n",
              "        }\n",
              "        (() => {\n",
              "          let quickchartButtonEl =\n",
              "            document.querySelector('#df-22eede0a-3a3b-4372-bcc8-08cfbecf4ddd button');\n",
              "          quickchartButtonEl.style.display =\n",
              "            google.colab.kernel.accessAllowed ? 'block' : 'none';\n",
              "        })();\n",
              "      </script>\n",
              "    </div>\n",
              "\n",
              "    </div>\n",
              "  </div>\n"
            ],
            "application/vnd.google.colaboratory.intrinsic+json": {
              "type": "dataframe",
              "variable_name": "copy_bitcoin",
              "summary": "{\n  \"name\": \"copy_bitcoin\",\n  \"rows\": 1996,\n  \"fields\": [\n    {\n      \"column\": \"Datetime\",\n      \"properties\": {\n        \"dtype\": \"date\",\n        \"min\": \"2025-06-06 00:00:00+00:00\",\n        \"max\": \"2025-06-12 22:15:00+00:00\",\n        \"num_unique_values\": 1996,\n        \"samples\": [\n          \"2025-06-09 02:05:00+00:00\",\n          \"2025-06-11 19:30:00+00:00\",\n          \"2025-06-07 10:30:00+00:00\"\n        ],\n        \"semantic_type\": \"\",\n        \"description\": \"\"\n      }\n    },\n    {\n      \"column\": \"Close\",\n      \"properties\": {\n        \"dtype\": \"number\",\n        \"std\": 2141.5782125027977,\n        \"min\": 101425.3984375,\n        \"max\": 110377.3671875,\n        \"num_unique_values\": 1991,\n        \"samples\": [\n          105602.96875,\n          108759.359375,\n          105172.0703125\n        ],\n        \"semantic_type\": \"\",\n        \"description\": \"\"\n      }\n    },\n    {\n      \"column\": \"High\",\n      \"properties\": {\n        \"dtype\": \"number\",\n        \"std\": 2147.7217644245193,\n        \"min\": 101425.3984375,\n        \"max\": 110393.71875,\n        \"num_unique_values\": 1992,\n        \"samples\": [\n          105718.2421875,\n          108724.96875,\n          105144.4453125\n        ],\n        \"semantic_type\": \"\",\n        \"description\": \"\"\n      }\n    },\n    {\n      \"column\": \"Low\",\n      \"properties\": {\n        \"dtype\": \"number\",\n        \"std\": 2135.915773280478,\n        \"min\": 101272.953125,\n        \"max\": 110286.0703125,\n        \"num_unique_values\": 1989,\n        \"samples\": [\n          109496.8125,\n          109120.078125,\n          106004.7109375\n        ],\n        \"semantic_type\": \"\",\n        \"description\": \"\"\n      }\n    },\n    {\n      \"column\": \"Open\",\n      \"properties\": {\n        \"dtype\": \"number\",\n        \"std\": 2143.1628845161854,\n        \"min\": 101339.21875,\n        \"max\": 110383.3046875,\n        \"num_unique_values\": 1993,\n        \"samples\": [\n          105632.3671875,\n          108917.1484375,\n          105144.4453125\n        ],\n        \"semantic_type\": \"\",\n        \"description\": \"\"\n      }\n    },\n    {\n      \"column\": \"Volume\",\n      \"properties\": {\n        \"dtype\": \"number\",\n        \"std\": 617689698,\n        \"min\": 0,\n        \"max\": 19344457728,\n        \"num_unique_values\": 1013,\n        \"samples\": [\n          1350451200,\n          81715200,\n          898977792\n        ],\n        \"semantic_type\": \"\",\n        \"description\": \"\"\n      }\n    }\n  ]\n}"
            }
          },
          "metadata": {},
          "execution_count": 34
        }
      ]
    },
    {
      "cell_type": "code",
      "source": [
        "df_bitcoin = copy_bitcoin.copy()\n",
        "del copy_bitcoin"
      ],
      "metadata": {
        "id": "GGlkTtfZ07dW"
      },
      "execution_count": 35,
      "outputs": []
    },
    {
      "cell_type": "code",
      "source": [
        "df_bitcoin.boxplot(\"Close\");\n",
        "plt.title(\"Distribución del precio de cierre (sin filtrar)\");"
      ],
      "metadata": {
        "colab": {
          "base_uri": "https://localhost:8080/",
          "height": 453
        },
        "id": "TLnuNcfDkKGT",
        "outputId": "04257557-6baf-410f-8df2-cee64d30a0ba"
      },
      "execution_count": 36,
      "outputs": [
        {
          "output_type": "display_data",
          "data": {
            "text/plain": [
              "<Figure size 640x480 with 1 Axes>"
            ],
            "image/png": "[encoded data removed]"
          },
          "metadata": {}
        }
      ]
    },
    {
      "cell_type": "markdown",
      "metadata": {
        "id": "newb6p3L1zD4"
      },
      "source": [
        "## **3.2 Creación de la función que limpia la base de datos**"
      ]
    },
    {
      "cell_type": "markdown",
      "metadata": {
        "id": "bk3LHKVBzhoD"
      },
      "source": [
        "De la copia del dataframe, se realizará la siguienete limpieza:\n",
        "1. Los valores duplicados serán eliminados, encaso de existir.\n",
        "2. En la columna que almacena los precios de cierre, en caso de que el valor sea nulo, este será llenado con el valor anterior que no lo es.\n",
        "3. Serán elimindaos aquellos registros cuyo volume de transacción no sean mayores a cero.\n",
        "4. Nos concentraremos en aquellos registros cuyos precios de cierre se encuentren entre los quartiles $Q_1,\\ Q_3$."
      ]
    },
    {
      "cell_type": "code",
      "execution_count": 37,
      "metadata": {
        "id": "PwmH4SlvSaNu"
      },
      "outputs": [],
      "source": [
        "def limpieza_datos(df: pd.DataFrame) -> tuple[float, pd.DataFrame]:\n",
        "  media: float = 0\n",
        "\n",
        "  #Limpieza b[asica en caso de ser requerida\n",
        "  df_limpio = df.copy()\n",
        "  df_limpio.drop_duplicates(inplace=True)\n",
        "  valores_nulos = df_limpio.Close.isna().any()\n",
        "  if valores_nulos == True:\n",
        "    df_limpio.Close.fillna(method='ffill', inplace=True)\n",
        "\n",
        "  # Eliminado registros que tengan un Volume de transaccion igual cero\n",
        "  query = df_limpio.query('Volume <= 0').index\n",
        "  df_limpio.drop(query, axis = 0, inplace = True)\n",
        "\n",
        "  Q1 = df_limpio.Close.quantile(0.25)\n",
        "  Q3 = df_limpio.Close.quantile(0.75)\n",
        "  # IIQ = Q3-Q1\n",
        "  df_limpio = df_limpio.query(f'Close > {Q1} & Close < {Q3}')\n",
        "\n",
        "  # Calculando la media con los datos ya filtrados.\n",
        "  media = df_limpio.Close.mean()\n",
        "\n",
        "  return (media, df_limpio)"
      ]
    },
    {
      "cell_type": "code",
      "source": [
        "precio_medio, df_limpio = limpieza_datos(df_bitcoin)\n",
        "print(f'El precio medio del Bitcoin es: {precio_medio:.2f}\\n\\n')\n",
        "df_limpio.head(3)\n"
      ],
      "metadata": {
        "colab": {
          "base_uri": "https://localhost:8080/",
          "height": 227
        },
        "id": "xlBiS9HVjQ0A",
        "outputId": "4bed82e7-774d-4dd3-c79b-48fa31bfe531"
      },
      "execution_count": 38,
      "outputs": [
        {
          "output_type": "stream",
          "name": "stdout",
          "text": [
            "El precio medio del Bitcoin es: 107074.51\n",
            "\n",
            "\n"
          ]
        },
        {
          "output_type": "execute_result",
          "data": {
            "text/plain": [
              "                                   Close           High            Low  \\\n",
              "Datetime                                                                 \n",
              "2025-06-07 12:40:00+00:00  105651.320312  105708.960938  105458.976562   \n",
              "2025-06-07 12:45:00+00:00  105552.765625  105674.703125  105552.765625   \n",
              "2025-06-07 13:20:00+00:00  105615.929688  105624.710938  105571.679688   \n",
              "\n",
              "                                    Open     Volume  \n",
              "Datetime                                             \n",
              "2025-06-07 12:40:00+00:00  105458.976562  173072384  \n",
              "2025-06-07 12:45:00+00:00  105674.703125  933752832  \n",
              "2025-06-07 13:20:00+00:00  105571.679688    5742592  "
            ],
            "text/html": [
              "\n",
              "  <div id=\"df-5a74472c-f99d-4302-9574-954abcc78683\" class=\"colab-df-container\">\n",
              "    <div>\n",
              "<style scoped>\n",
              "    .dataframe tbody tr th:only-of-type {\n",
              "        vertical-align: middle;\n",
              "    }\n",
              "\n",
              "    .dataframe tbody tr th {\n",
              "        vertical-align: top;\n",
              "    }\n",
              "\n",
              "    .dataframe thead th {\n",
              "        text-align: right;\n",
              "    }\n",
              "</style>\n",
              "<table border=\"1\" class=\"dataframe\">\n",
              "  <thead>\n",
              "    <tr style=\"text-align: right;\">\n",
              "      <th></th>\n",
              "      <th>Close</th>\n",
              "      <th>High</th>\n",
              "      <th>Low</th>\n",
              "      <th>Open</th>\n",
              "      <th>Volume</th>\n",
              "    </tr>\n",
              "    <tr>\n",
              "      <th>Datetime</th>\n",
              "      <th></th>\n",
              "      <th></th>\n",
              "      <th></th>\n",
              "      <th></th>\n",
              "      <th></th>\n",
              "    </tr>\n",
              "  </thead>\n",
              "  <tbody>\n",
              "    <tr>\n",
              "      <th>2025-06-07 12:40:00+00:00</th>\n",
              "      <td>105651.320312</td>\n",
              "      <td>105708.960938</td>\n",
              "      <td>105458.976562</td>\n",
              "      <td>105458.976562</td>\n",
              "      <td>173072384</td>\n",
              "    </tr>\n",
              "    <tr>\n",
              "      <th>2025-06-07 12:45:00+00:00</th>\n",
              "      <td>105552.765625</td>\n",
              "      <td>105674.703125</td>\n",
              "      <td>105552.765625</td>\n",
              "      <td>105674.703125</td>\n",
              "      <td>933752832</td>\n",
              "    </tr>\n",
              "    <tr>\n",
              "      <th>2025-06-07 13:20:00+00:00</th>\n",
              "      <td>105615.929688</td>\n",
              "      <td>105624.710938</td>\n",
              "      <td>105571.679688</td>\n",
              "      <td>105571.679688</td>\n",
              "      <td>5742592</td>\n",
              "    </tr>\n",
              "  </tbody>\n",
              "</table>\n",
              "</div>\n",
              "    <div class=\"colab-df-buttons\">\n",
              "\n",
              "  <div class=\"colab-df-container\">\n",
              "    <button class=\"colab-df-convert\" onclick=\"convertToInteractive('df-5a74472c-f99d-4302-9574-954abcc78683')\"\n",
              "            title=\"Convert this dataframe to an interactive table.\"\n",
              "            style=\"display:none;\">\n",
              "\n",
              "  <svg xmlns=\"http://www.w3.org/2000/svg\" height=\"24px\" viewBox=\"0 -960 960 960\">\n",
              "    <path d=\"M120-120v-720h720v720H120Zm60-500h600v-160H180v160Zm220 220h160v-160H400v160Zm0 220h160v-160H400v160ZM180-400h160v-160H180v160Zm440 0h160v-160H620v160ZM180-180h160v-160H180v160Zm440 0h160v-160H620v160Z\"/>\n",
              "  </svg>\n",
              "    </button>\n",
              "\n",
              "  <style>\n",
              "    .colab-df-container {\n",
              "      display:flex;\n",
              "      gap: 12px;\n",
              "    }\n",
              "\n",
              "    .colab-df-convert {\n",
              "      background-color: #E8F0FE;\n",
              "      border: none;\n",
              "      border-radius: 50%;\n",
              "      cursor: pointer;\n",
              "      display: none;\n",
              "      fill: #1967D2;\n",
              "      height: 32px;\n",
              "      padding: 0 0 0 0;\n",
              "      width: 32px;\n",
              "    }\n",
              "\n",
              "    .colab-df-convert:hover {\n",
              "      background-color: #E2EBFA;\n",
              "      box-shadow: 0px 1px 2px rgba(60, 64, 67, 0.3), 0px 1px 3px 1px rgba(60, 64, 67, 0.15);\n",
              "      fill: #174EA6;\n",
              "    }\n",
              "\n",
              "    .colab-df-buttons div {\n",
              "      margin-bottom: 4px;\n",
              "    }\n",
              "\n",
              "    [theme=dark] .colab-df-convert {\n",
              "      background-color: #3B4455;\n",
              "      fill: #D2E3FC;\n",
              "    }\n",
              "\n",
              "    [theme=dark] .colab-df-convert:hover {\n",
              "      background-color: #434B5C;\n",
              "      box-shadow: 0px 1px 3px 1px rgba(0, 0, 0, 0.15);\n",
              "      filter: drop-shadow(0px 1px 2px rgba(0, 0, 0, 0.3));\n",
              "      fill: #FFFFFF;\n",
              "    }\n",
              "  </style>\n",
              "\n",
              "    <script>\n",
              "      const buttonEl =\n",
              "        document.querySelector('#df-5a74472c-f99d-4302-9574-954abcc78683 button.colab-df-convert');\n",
              "      buttonEl.style.display =\n",
              "        google.colab.kernel.accessAllowed ? 'block' : 'none';\n",
              "\n",
              "      async function convertToInteractive(key) {\n",
              "        const element = document.querySelector('#df-5a74472c-f99d-4302-9574-954abcc78683');\n",
              "        const dataTable =\n",
              "          await google.colab.kernel.invokeFunction('convertToInteractive',\n",
              "                                                    [key], {});\n",
              "        if (!dataTable) return;\n",
              "\n",
              "        const docLinkHtml = 'Like what you see? Visit the ' +\n",
              "          '<a target=\"_blank\" href=https://colab.research.google.com/notebooks/data_table.ipynb>data table notebook</a>'\n",
              "          + ' to learn more about interactive tables.';\n",
              "        element.innerHTML = '';\n",
              "        dataTable['output_type'] = 'display_data';\n",
              "        await google.colab.output.renderOutput(dataTable, element);\n",
              "        const docLink = document.createElement('div');\n",
              "        docLink.innerHTML = docLinkHtml;\n",
              "        element.appendChild(docLink);\n",
              "      }\n",
              "    </script>\n",
              "  </div>\n",
              "\n",
              "\n",
              "    <div id=\"df-fd9469df-51db-4a89-ba68-f336035a07de\">\n",
              "      <button class=\"colab-df-quickchart\" onclick=\"quickchart('df-fd9469df-51db-4a89-ba68-f336035a07de')\"\n",
              "                title=\"Suggest charts\"\n",
              "                style=\"display:none;\">\n",
              "\n",
              "<svg xmlns=\"http://www.w3.org/2000/svg\" height=\"24px\"viewBox=\"0 0 24 24\"\n",
              "     width=\"24px\">\n",
              "    <g>\n",
              "        <path d=\"M19 3H5c-1.1 0-2 .9-2 2v14c0 1.1.9 2 2 2h14c1.1 0 2-.9 2-2V5c0-1.1-.9-2-2-2zM9 17H7v-7h2v7zm4 0h-2V7h2v10zm4 0h-2v-4h2v4z\"/>\n",
              "    </g>\n",
              "</svg>\n",
              "      </button>\n",
              "\n",
              "<style>\n",
              "  .colab-df-quickchart {\n",
              "      --bg-color: #E8F0FE;\n",
              "      --fill-color: #1967D2;\n",
              "      --hover-bg-color: #E2EBFA;\n",
              "      --hover-fill-color: #174EA6;\n",
              "      --disabled-fill-color: #AAA;\n",
              "      --disabled-bg-color: #DDD;\n",
              "  }\n",
              "\n",
              "  [theme=dark] .colab-df-quickchart {\n",
              "      --bg-color: #3B4455;\n",
              "      --fill-color: #D2E3FC;\n",
              "      --hover-bg-color: #434B5C;\n",
              "      --hover-fill-color: #FFFFFF;\n",
              "      --disabled-bg-color: #3B4455;\n",
              "      --disabled-fill-color: #666;\n",
              "  }\n",
              "\n",
              "  .colab-df-quickchart {\n",
              "    background-color: var(--bg-color);\n",
              "    border: none;\n",
              "    border-radius: 50%;\n",
              "    cursor: pointer;\n",
              "    display: none;\n",
              "    fill: var(--fill-color);\n",
              "    height: 32px;\n",
              "    padding: 0;\n",
              "    width: 32px;\n",
              "  }\n",
              "\n",
              "  .colab-df-quickchart:hover {\n",
              "    background-color: var(--hover-bg-color);\n",
              "    box-shadow: 0 1px 2px rgba(60, 64, 67, 0.3), 0 1px 3px 1px rgba(60, 64, 67, 0.15);\n",
              "    fill: var(--button-hover-fill-color);\n",
              "  }\n",
              "\n",
              "  .colab-df-quickchart-complete:disabled,\n",
              "  .colab-df-quickchart-complete:disabled:hover {\n",
              "    background-color: var(--disabled-bg-color);\n",
              "    fill: var(--disabled-fill-color);\n",
              "    box-shadow: none;\n",
              "  }\n",
              "\n",
              "  .colab-df-spinner {\n",
              "    border: 2px solid var(--fill-color);\n",
              "    border-color: transparent;\n",
              "    border-bottom-color: var(--fill-color);\n",
              "    animation:\n",
              "      spin 1s steps(1) infinite;\n",
              "  }\n",
              "\n",
              "  @keyframes spin {\n",
              "    0% {\n",
              "      border-color: transparent;\n",
              "      border-bottom-color: var(--fill-color);\n",
              "      border-left-color: var(--fill-color);\n",
              "    }\n",
              "    20% {\n",
              "      border-color: transparent;\n",
              "      border-left-color: var(--fill-color);\n",
              "      border-top-color: var(--fill-color);\n",
              "    }\n",
              "    30% {\n",
              "      border-color: transparent;\n",
              "      border-left-color: var(--fill-color);\n",
              "      border-top-color: var(--fill-color);\n",
              "      border-right-color: var(--fill-color);\n",
              "    }\n",
              "    40% {\n",
              "      border-color: transparent;\n",
              "      border-right-color: var(--fill-color);\n",
              "      border-top-color: var(--fill-color);\n",
              "    }\n",
              "    60% {\n",
              "      border-color: transparent;\n",
              "      border-right-color: var(--fill-color);\n",
              "    }\n",
              "    80% {\n",
              "      border-color: transparent;\n",
              "      border-right-color: var(--fill-color);\n",
              "      border-bottom-color: var(--fill-color);\n",
              "    }\n",
              "    90% {\n",
              "      border-color: transparent;\n",
              "      border-bottom-color: var(--fill-color);\n",
              "    }\n",
              "  }\n",
              "</style>\n",
              "\n",
              "      <script>\n",
              "        async function quickchart(key) {\n",
              "          const quickchartButtonEl =\n",
              "            document.querySelector('#' + key + ' button');\n",
              "          quickchartButtonEl.disabled = true;  // To prevent multiple clicks.\n",
              "          quickchartButtonEl.classList.add('colab-df-spinner');\n",
              "          try {\n",
              "            const charts = await google.colab.kernel.invokeFunction(\n",
              "                'suggestCharts', [key], {});\n",
              "          } catch (error) {\n",
              "            console.error('Error during call to suggestCharts:', error);\n",
              "          }\n",
              "          quickchartButtonEl.classList.remove('colab-df-spinner');\n",
              "          quickchartButtonEl.classList.add('colab-df-quickchart-complete');\n",
              "        }\n",
              "        (() => {\n",
              "          let quickchartButtonEl =\n",
              "            document.querySelector('#df-fd9469df-51db-4a89-ba68-f336035a07de button');\n",
              "          quickchartButtonEl.style.display =\n",
              "            google.colab.kernel.accessAllowed ? 'block' : 'none';\n",
              "        })();\n",
              "      </script>\n",
              "    </div>\n",
              "\n",
              "    </div>\n",
              "  </div>\n"
            ],
            "application/vnd.google.colaboratory.intrinsic+json": {
              "type": "dataframe",
              "variable_name": "df_limpio",
              "summary": "{\n  \"name\": \"df_limpio\",\n  \"rows\": 508,\n  \"fields\": [\n    {\n      \"column\": \"Datetime\",\n      \"properties\": {\n        \"dtype\": \"date\",\n        \"min\": \"2025-06-07 12:40:00+00:00\",\n        \"max\": \"2025-06-12 22:15:00+00:00\",\n        \"num_unique_values\": 508,\n        \"samples\": [\n          \"2025-06-08 13:25:00+00:00\",\n          \"2025-06-11 20:05:00+00:00\",\n          \"2025-06-12 20:25:00+00:00\"\n        ],\n        \"semantic_type\": \"\",\n        \"description\": \"\"\n      }\n    },\n    {\n      \"column\": \"Close\",\n      \"properties\": {\n        \"dtype\": \"number\",\n        \"std\": 1140.2922201311274,\n        \"min\": 105552.3515625,\n        \"max\": 108944.515625,\n        \"num_unique_values\": 508,\n        \"samples\": [\n          105743.40625,\n          108674.609375,\n          106867.6640625\n        ],\n        \"semantic_type\": \"\",\n        \"description\": \"\"\n      }\n    },\n    {\n      \"column\": \"High\",\n      \"properties\": {\n        \"dtype\": \"number\",\n        \"std\": 1147.26698526505,\n        \"min\": 105552.3515625,\n        \"max\": 109037.6640625,\n        \"num_unique_values\": 507,\n        \"samples\": [\n          105552.3515625,\n          108552.015625,\n          106161.53125\n        ],\n        \"semantic_type\": \"\",\n        \"description\": \"\"\n      }\n    },\n    {\n      \"column\": \"Low\",\n      \"properties\": {\n        \"dtype\": \"number\",\n        \"std\": 1133.8813063126615,\n        \"min\": 105450.3515625,\n        \"max\": 108936.203125,\n        \"num_unique_values\": 507,\n        \"samples\": [\n          105652.234375,\n          108626.34375,\n          106077.765625\n        ],\n        \"semantic_type\": \"\",\n        \"description\": \"\"\n      }\n    },\n    {\n      \"column\": \"Open\",\n      \"properties\": {\n        \"dtype\": \"number\",\n        \"std\": 1143.8747813255115,\n        \"min\": 105450.3515625,\n        \"max\": 109037.6640625,\n        \"num_unique_values\": 507,\n        \"samples\": [\n          105711.6640625,\n          108626.34375,\n          106115.546875\n        ],\n        \"semantic_type\": \"\",\n        \"description\": \"\"\n      }\n    },\n    {\n      \"column\": \"Volume\",\n      \"properties\": {\n        \"dtype\": \"number\",\n        \"std\": 1017838207,\n        \"min\": 368640,\n        \"max\": 19344457728,\n        \"num_unique_values\": 506,\n        \"samples\": [\n          128835584,\n          130301952,\n          1323016192\n        ],\n        \"semantic_type\": \"\",\n        \"description\": \"\"\n      }\n    }\n  ]\n}"
            }
          },
          "metadata": {},
          "execution_count": 38
        }
      ]
    },
    {
      "cell_type": "code",
      "execution_count": 39,
      "metadata": {
        "id": "Mk7p1AmiktjT",
        "colab": {
          "base_uri": "https://localhost:8080/",
          "height": 453
        },
        "outputId": "2686429e-8714-4071-cb04-d6fe298c8f30"
      },
      "outputs": [
        {
          "output_type": "display_data",
          "data": {
            "text/plain": [
              "<Figure size 640x480 with 1 Axes>"
            ],
            "image/png": "[encoded data removed]"
          },
          "metadata": {}
        }
      ],
      "source": [
        "df_limpio.boxplot('Close');\n",
        "plt.title(\"Distribución del precio de cierre (con filtrar)\");"
      ]
    },
    {
      "cell_type": "markdown",
      "metadata": {
        "id": "CZ1vInIEmauy"
      },
      "source": [
        "# **4. Toma de decisiones**"
      ]
    },
    {
      "cell_type": "code",
      "execution_count": 40,
      "metadata": {
        "id": "inK_pHkQnXCa"
      },
      "outputs": [],
      "source": [
        "def tomar_decision(media_bitcoin: float, tendencia: str ) -> str:\n",
        "\n",
        "  if precio_actual >= media_bitcoin and tendencia == 'baja':\n",
        "    return 'Vender'\n",
        "  elif precio_actual < media_bitcoin and tendencia == 'alta':\n",
        "    return 'Comprar'\n",
        "  else:\n",
        "    return 'Esperar'"
      ]
    },
    {
      "cell_type": "code",
      "execution_count": 41,
      "metadata": {
        "id": "tFGGFbjy84iy",
        "colab": {
          "base_uri": "https://localhost:8080/"
        },
        "outputId": "8136cd47-634e-4be5-d887-9ff4c2de8a90"
      },
      "outputs": [
        {
          "output_type": "stream",
          "name": "stdout",
          "text": [
            "La decisión a tomar es: Esperar\n"
          ]
        }
      ],
      "source": [
        "decision = tomar_decision(precio_medio, tendencia)\n",
        "print(f'La decisión a tomar es: {decision}')"
      ]
    },
    {
      "cell_type": "markdown",
      "metadata": {
        "id": "rtE3Suqus904"
      },
      "source": [
        "# **5. Visualización**"
      ]
    },
    {
      "cell_type": "code",
      "execution_count": 42,
      "metadata": {
        "id": "ReY3L8xKtFjM"
      },
      "outputs": [],
      "source": [
        "def visualizacion(df: pd.DataFrame, media: float, tendencia: str, algoritmo_decision:str) ->  None:\n",
        "\n",
        "  df_copy = df.copy()\n",
        "  # Añadiendo una nueva columna\n",
        "  df_copy['Promedio'] = media\n",
        "\n",
        "  # Configuración del gráfico\n",
        "  plt.style.use(\"dark_background\")\n",
        "  plt.figure(figsize=(16,5))\n",
        "  plt.title('Precio cierre del Bitcoin en los últimos 7 días')\n",
        "  plt.plot(df_copy.index, df_copy.Close, linewidth = 0.85, color = '#ffffff');\n",
        "  plt.plot(df_copy.index, df_copy.Promedio, color = 'orange', linestyle = '--');\n",
        "  plt.legend(['Precio cierre del Bitcoin', 'Promedio'])\n",
        "  plt.grid(True, lw = 0.25, ls = '--')\n",
        "\n",
        "  color = 'green' if algoritmo_decision == 'Vender' else 'blue' if algoritmo_decision == 'Comprar' else 'red'\n",
        "  plt.annotate(algoritmo_decision,\n",
        "               xy=(df_copy.index[-1],df_copy.Close.iloc[-1]),\n",
        "               xytext=(df_copy.index[-1], df_copy.Close.iloc[-1]-1500),\n",
        "               arrowprops=dict(facecolor=color, shrink=.1, width = 3, headwidth = 8),\n",
        "               horizontalalignment='center')\n",
        "\n",
        "  plt.show()\n"
      ]
    },
    {
      "cell_type": "code",
      "execution_count": 43,
      "metadata": {
        "id": "GhrmBp181aEk",
        "colab": {
          "base_uri": "https://localhost:8080/",
          "height": 438
        },
        "outputId": "c4fada61-4119-42be-9825-15247a8fec16"
      },
      "outputs": [
        {
          "output_type": "display_data",
          "data": {
            "text/plain": [
              "<Figure size 1600x500 with 1 Axes>"
            ],
            "image/png": "[encoded data removed]"
          },
          "metadata": {}
        }
      ],
      "source": [
        "visualizacion(df_bitcoin, precio_medio, tendencia, decision)"
      ]
    },
    {
      "cell_type": "markdown",
      "metadata": {
        "id": "QQrPGQgz95k2"
      },
      "source": [
        "## **6. Automatización**"
      ]
    },
    {
      "cell_type": "code",
      "execution_count": 44,
      "metadata": {
        "id": "65QEc7lh-Kxh"
      },
      "outputs": [],
      "source": [
        "from IPython.display import clear_output\n",
        "import time"
      ]
    },
    {
      "cell_type": "code",
      "execution_count": null,
      "metadata": {
        "id": "EfGg0dDF-hRo",
        "colab": {
          "base_uri": "https://localhost:8080/",
          "height": 577
        },
        "outputId": "cb3669f2-c3c9-4438-97be-a95550a2f4dd"
      },
      "outputs": [
        {
          "output_type": "stream",
          "name": "stderr",
          "text": [
            "\r[*********************100%***********************]  1 of 1 completed\n"
          ]
        },
        {
          "output_type": "stream",
          "name": "stdout",
          "text": [
            "\n",
            "\n",
            "Precio actual: 106065.73\n",
            "Tendencia: baja\n",
            "El precio medio del Bitcoin es: 107069.72\n",
            "La decisión a tomar es: Esperar\n",
            "\n"
          ]
        },
        {
          "output_type": "display_data",
          "data": {
            "text/plain": [
              "<Figure size 1600x500 with 1 Axes>"
            ],
            "image/png": "[encoded data removed]"
          },
          "metadata": {}
        }
      ],
      "source": [
        "while(True):\n",
        "    clear_output()\n",
        "    df_bitcoin = dataframe_bitcoin()\n",
        "    df_bitcoin = ajuste_columns(df_bitcoin)\n",
        "    precio_actual, tendencia = extraer_tendencias()\n",
        "    precio_medio, df_limpio = limpieza_datos(df_bitcoin)\n",
        "    decision = tomar_decision(precio_medio, tendencia)\n",
        "\n",
        "    print(f'\\n\\nPrecio actual: {precio_actual}')\n",
        "    print(f'Tendencia: {tendencia}')\n",
        "    print(f'El precio medio del Bitcoin es: {precio_medio:.2f}')\n",
        "    print(f'La decisión a tomar es: {decision}\\n')\n",
        "\n",
        "    visualizacion(df_bitcoin, precio_medio, tendencia, decision)\n",
        "    try:\n",
        "      time.sleep(300)\n",
        "    except KeyboardInterrupt:\n",
        "      print(\"\\n\\n>> Ejecución detenida\")\n",
        "      break"
      ]
    }
  ],
  "metadata": {
    "colab": {
      "provenance": [],
      "authorship_tag": "ABX9TyOWEQp6l6uBvvVh93bGdBqH",
      "include_colab_link": true
    },
    "kernelspec": {
      "display_name": "Python 3",
      "name": "python3"
    },
    "language_info": {
      "name": "python"
    }
  },
  "nbformat": 4,
  "nbformat_minor": 0
}