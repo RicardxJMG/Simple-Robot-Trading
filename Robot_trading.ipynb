{
  "nbformat": 4,
  "nbformat_minor": 0,
  "metadata": {
    "colab": {
      "provenance": [],
      "authorship_tag": "ABX9TyOcLU24KscHVqP6caEetADh"
    },
    "kernelspec": {
      "name": "python3",
      "display_name": "Python 3"
    },
    "language_info": {
      "name": "python"
    }
  },
  "cells": [
    {
      "cell_type": "markdown",
      "source": [
        "# **1. Configuración del ambiente**"
      ],
      "metadata": {
        "id": "I8I6zkmj82TP"
      }
    },
    {
      "cell_type": "code",
      "source": [
        "import pandas as pd\n",
        "import numpy as np\n",
        "import requests\n",
        "import yfinance as yf\n",
        "from bs4 import BeautifulSoup\n",
        "# from datetime import date, timedelta"
      ],
      "metadata": {
        "id": "mFr_5eh59XBk"
      },
      "execution_count": 1,
      "outputs": []
    },
    {
      "cell_type": "code",
      "source": [
        "global df_bitcoin, precio_actual, tendencia, media_bitcoin,  algoritmo_decision"
      ],
      "metadata": {
        "id": "b7C2Ex8m9XJV"
      },
      "execution_count": 2,
      "outputs": []
    },
    {
      "cell_type": "markdown",
      "source": [
        "# **2. Obtención de los datos**"
      ],
      "metadata": {
        "id": "j6X90ILU9XOX"
      }
    },
    {
      "cell_type": "markdown",
      "source": [
        "## **2.1 Precios Historicos del Bitcoin**"
      ],
      "metadata": {
        "id": "vvl2INv-rSdk"
      }
    },
    {
      "cell_type": "code",
      "source": [
        "def importar_base_bitcoin():\n",
        "  global df_bitcoin\n",
        "  #Obteniendo datos historicos del Bitcoin\n",
        "  df_bitcoin = yf.download('BTC-USD', period= '7d', interval='5m')"
      ],
      "metadata": {
        "id": "HGrbOiAp9XTH"
      },
      "execution_count": 3,
      "outputs": []
    },
    {
      "cell_type": "code",
      "source": [
        "importar_base_bitcoin()\n",
        "df_bitcoin.head(5)"
      ],
      "metadata": {
        "colab": {
          "base_uri": "https://localhost:8080/",
          "height": 255
        },
        "id": "jWXSktNpN13L",
        "outputId": "64fdefd3-4da4-43bc-e862-53a9bbdb018d"
      },
      "execution_count": 4,
      "outputs": [
        {
          "output_type": "stream",
          "name": "stderr",
          "text": [
            "\r[*********************100%%**********************]  1 of 1 completed\n"
          ]
        },
        {
          "output_type": "execute_result",
          "data": {
            "text/plain": [
              "                                   Open          High           Low  \\\n",
              "Datetime                                                              \n",
              "2024-03-20 00:00:00+00:00  61930.351562  62163.566406  61930.351562   \n",
              "2024-03-20 00:05:00+00:00  61917.066406  62120.085938  61917.066406   \n",
              "2024-03-20 00:10:00+00:00  62130.250000  62168.722656  62033.789062   \n",
              "2024-03-20 00:15:00+00:00  62098.375000  62439.648438  61970.316406   \n",
              "2024-03-20 00:20:00+00:00  62511.628906  62653.246094  62511.355469   \n",
              "\n",
              "                                  Close     Adj Close     Volume  \n",
              "Datetime                                                          \n",
              "2024-03-20 00:00:00+00:00  62094.578125  62094.578125          0  \n",
              "2024-03-20 00:05:00+00:00  62102.578125  62102.578125  108412928  \n",
              "2024-03-20 00:10:00+00:00  62033.789062  62033.789062  165732352  \n",
              "2024-03-20 00:15:00+00:00  62439.648438  62439.648438          0  \n",
              "2024-03-20 00:20:00+00:00  62653.246094  62653.246094  385015808  "
            ],
            "text/html": [
              "\n",
              "  <div id=\"df-ecf6af68-1359-4cd1-8814-994330089922\" class=\"colab-df-container\">\n",
              "    <div>\n",
              "<style scoped>\n",
              "    .dataframe tbody tr th:only-of-type {\n",
              "        vertical-align: middle;\n",
              "    }\n",
              "\n",
              "    .dataframe tbody tr th {\n",
              "        vertical-align: top;\n",
              "    }\n",
              "\n",
              "    .dataframe thead th {\n",
              "        text-align: right;\n",
              "    }\n",
              "</style>\n",
              "<table border=\"1\" class=\"dataframe\">\n",
              "  <thead>\n",
              "    <tr style=\"text-align: right;\">\n",
              "      <th></th>\n",
              "      <th>Open</th>\n",
              "      <th>High</th>\n",
              "      <th>Low</th>\n",
              "      <th>Close</th>\n",
              "      <th>Adj Close</th>\n",
              "      <th>Volume</th>\n",
              "    </tr>\n",
              "    <tr>\n",
              "      <th>Datetime</th>\n",
              "      <th></th>\n",
              "      <th></th>\n",
              "      <th></th>\n",
              "      <th></th>\n",
              "      <th></th>\n",
              "      <th></th>\n",
              "    </tr>\n",
              "  </thead>\n",
              "  <tbody>\n",
              "    <tr>\n",
              "      <th>2024-03-20 00:00:00+00:00</th>\n",
              "      <td>61930.351562</td>\n",
              "      <td>62163.566406</td>\n",
              "      <td>61930.351562</td>\n",
              "      <td>62094.578125</td>\n",
              "      <td>62094.578125</td>\n",
              "      <td>0</td>\n",
              "    </tr>\n",
              "    <tr>\n",
              "      <th>2024-03-20 00:05:00+00:00</th>\n",
              "      <td>61917.066406</td>\n",
              "      <td>62120.085938</td>\n",
              "      <td>61917.066406</td>\n",
              "      <td>62102.578125</td>\n",
              "      <td>62102.578125</td>\n",
              "      <td>108412928</td>\n",
              "    </tr>\n",
              "    <tr>\n",
              "      <th>2024-03-20 00:10:00+00:00</th>\n",
              "      <td>62130.250000</td>\n",
              "      <td>62168.722656</td>\n",
              "      <td>62033.789062</td>\n",
              "      <td>62033.789062</td>\n",
              "      <td>62033.789062</td>\n",
              "      <td>165732352</td>\n",
              "    </tr>\n",
              "    <tr>\n",
              "      <th>2024-03-20 00:15:00+00:00</th>\n",
              "      <td>62098.375000</td>\n",
              "      <td>62439.648438</td>\n",
              "      <td>61970.316406</td>\n",
              "      <td>62439.648438</td>\n",
              "      <td>62439.648438</td>\n",
              "      <td>0</td>\n",
              "    </tr>\n",
              "    <tr>\n",
              "      <th>2024-03-20 00:20:00+00:00</th>\n",
              "      <td>62511.628906</td>\n",
              "      <td>62653.246094</td>\n",
              "      <td>62511.355469</td>\n",
              "      <td>62653.246094</td>\n",
              "      <td>62653.246094</td>\n",
              "      <td>385015808</td>\n",
              "    </tr>\n",
              "  </tbody>\n",
              "</table>\n",
              "</div>\n",
              "    <div class=\"colab-df-buttons\">\n",
              "\n",
              "  <div class=\"colab-df-container\">\n",
              "    <button class=\"colab-df-convert\" onclick=\"convertToInteractive('df-ecf6af68-1359-4cd1-8814-994330089922')\"\n",
              "            title=\"Convert this dataframe to an interactive table.\"\n",
              "            style=\"display:none;\">\n",
              "\n",
              "  <svg xmlns=\"http://www.w3.org/2000/svg\" height=\"24px\" viewBox=\"0 -960 960 960\">\n",
              "    <path d=\"M120-120v-720h720v720H120Zm60-500h600v-160H180v160Zm220 220h160v-160H400v160Zm0 220h160v-160H400v160ZM180-400h160v-160H180v160Zm440 0h160v-160H620v160ZM180-180h160v-160H180v160Zm440 0h160v-160H620v160Z\"/>\n",
              "  </svg>\n",
              "    </button>\n",
              "\n",
              "  <style>\n",
              "    .colab-df-container {\n",
              "      display:flex;\n",
              "      gap: 12px;\n",
              "    }\n",
              "\n",
              "    .colab-df-convert {\n",
              "      background-color: #E8F0FE;\n",
              "      border: none;\n",
              "      border-radius: 50%;\n",
              "      cursor: pointer;\n",
              "      display: none;\n",
              "      fill: #1967D2;\n",
              "      height: 32px;\n",
              "      padding: 0 0 0 0;\n",
              "      width: 32px;\n",
              "    }\n",
              "\n",
              "    .colab-df-convert:hover {\n",
              "      background-color: #E2EBFA;\n",
              "      box-shadow: 0px 1px 2px rgba(60, 64, 67, 0.3), 0px 1px 3px 1px rgba(60, 64, 67, 0.15);\n",
              "      fill: #174EA6;\n",
              "    }\n",
              "\n",
              "    .colab-df-buttons div {\n",
              "      margin-bottom: 4px;\n",
              "    }\n",
              "\n",
              "    [theme=dark] .colab-df-convert {\n",
              "      background-color: #3B4455;\n",
              "      fill: #D2E3FC;\n",
              "    }\n",
              "\n",
              "    [theme=dark] .colab-df-convert:hover {\n",
              "      background-color: #434B5C;\n",
              "      box-shadow: 0px 1px 3px 1px rgba(0, 0, 0, 0.15);\n",
              "      filter: drop-shadow(0px 1px 2px rgba(0, 0, 0, 0.3));\n",
              "      fill: #FFFFFF;\n",
              "    }\n",
              "  </style>\n",
              "\n",
              "    <script>\n",
              "      const buttonEl =\n",
              "        document.querySelector('#df-ecf6af68-1359-4cd1-8814-994330089922 button.colab-df-convert');\n",
              "      buttonEl.style.display =\n",
              "        google.colab.kernel.accessAllowed ? 'block' : 'none';\n",
              "\n",
              "      async function convertToInteractive(key) {\n",
              "        const element = document.querySelector('#df-ecf6af68-1359-4cd1-8814-994330089922');\n",
              "        const dataTable =\n",
              "          await google.colab.kernel.invokeFunction('convertToInteractive',\n",
              "                                                    [key], {});\n",
              "        if (!dataTable) return;\n",
              "\n",
              "        const docLinkHtml = 'Like what you see? Visit the ' +\n",
              "          '<a target=\"_blank\" href=https://colab.research.google.com/notebooks/data_table.ipynb>data table notebook</a>'\n",
              "          + ' to learn more about interactive tables.';\n",
              "        element.innerHTML = '';\n",
              "        dataTable['output_type'] = 'display_data';\n",
              "        await google.colab.output.renderOutput(dataTable, element);\n",
              "        const docLink = document.createElement('div');\n",
              "        docLink.innerHTML = docLinkHtml;\n",
              "        element.appendChild(docLink);\n",
              "      }\n",
              "    </script>\n",
              "  </div>\n",
              "\n",
              "\n",
              "<div id=\"df-3ff57414-2093-465c-8176-1bc63d0ceca0\">\n",
              "  <button class=\"colab-df-quickchart\" onclick=\"quickchart('df-3ff57414-2093-465c-8176-1bc63d0ceca0')\"\n",
              "            title=\"Suggest charts\"\n",
              "            style=\"display:none;\">\n",
              "\n",
              "<svg xmlns=\"http://www.w3.org/2000/svg\" height=\"24px\"viewBox=\"0 0 24 24\"\n",
              "     width=\"24px\">\n",
              "    <g>\n",
              "        <path d=\"M19 3H5c-1.1 0-2 .9-2 2v14c0 1.1.9 2 2 2h14c1.1 0 2-.9 2-2V5c0-1.1-.9-2-2-2zM9 17H7v-7h2v7zm4 0h-2V7h2v10zm4 0h-2v-4h2v4z\"/>\n",
              "    </g>\n",
              "</svg>\n",
              "  </button>\n",
              "\n",
              "<style>\n",
              "  .colab-df-quickchart {\n",
              "      --bg-color: #E8F0FE;\n",
              "      --fill-color: #1967D2;\n",
              "      --hover-bg-color: #E2EBFA;\n",
              "      --hover-fill-color: #174EA6;\n",
              "      --disabled-fill-color: #AAA;\n",
              "      --disabled-bg-color: #DDD;\n",
              "  }\n",
              "\n",
              "  [theme=dark] .colab-df-quickchart {\n",
              "      --bg-color: #3B4455;\n",
              "      --fill-color: #D2E3FC;\n",
              "      --hover-bg-color: #434B5C;\n",
              "      --hover-fill-color: #FFFFFF;\n",
              "      --disabled-bg-color: #3B4455;\n",
              "      --disabled-fill-color: #666;\n",
              "  }\n",
              "\n",
              "  .colab-df-quickchart {\n",
              "    background-color: var(--bg-color);\n",
              "    border: none;\n",
              "    border-radius: 50%;\n",
              "    cursor: pointer;\n",
              "    display: none;\n",
              "    fill: var(--fill-color);\n",
              "    height: 32px;\n",
              "    padding: 0;\n",
              "    width: 32px;\n",
              "  }\n",
              "\n",
              "  .colab-df-quickchart:hover {\n",
              "    background-color: var(--hover-bg-color);\n",
              "    box-shadow: 0 1px 2px rgba(60, 64, 67, 0.3), 0 1px 3px 1px rgba(60, 64, 67, 0.15);\n",
              "    fill: var(--button-hover-fill-color);\n",
              "  }\n",
              "\n",
              "  .colab-df-quickchart-complete:disabled,\n",
              "  .colab-df-quickchart-complete:disabled:hover {\n",
              "    background-color: var(--disabled-bg-color);\n",
              "    fill: var(--disabled-fill-color);\n",
              "    box-shadow: none;\n",
              "  }\n",
              "\n",
              "  .colab-df-spinner {\n",
              "    border: 2px solid var(--fill-color);\n",
              "    border-color: transparent;\n",
              "    border-bottom-color: var(--fill-color);\n",
              "    animation:\n",
              "      spin 1s steps(1) infinite;\n",
              "  }\n",
              "\n",
              "  @keyframes spin {\n",
              "    0% {\n",
              "      border-color: transparent;\n",
              "      border-bottom-color: var(--fill-color);\n",
              "      border-left-color: var(--fill-color);\n",
              "    }\n",
              "    20% {\n",
              "      border-color: transparent;\n",
              "      border-left-color: var(--fill-color);\n",
              "      border-top-color: var(--fill-color);\n",
              "    }\n",
              "    30% {\n",
              "      border-color: transparent;\n",
              "      border-left-color: var(--fill-color);\n",
              "      border-top-color: var(--fill-color);\n",
              "      border-right-color: var(--fill-color);\n",
              "    }\n",
              "    40% {\n",
              "      border-color: transparent;\n",
              "      border-right-color: var(--fill-color);\n",
              "      border-top-color: var(--fill-color);\n",
              "    }\n",
              "    60% {\n",
              "      border-color: transparent;\n",
              "      border-right-color: var(--fill-color);\n",
              "    }\n",
              "    80% {\n",
              "      border-color: transparent;\n",
              "      border-right-color: var(--fill-color);\n",
              "      border-bottom-color: var(--fill-color);\n",
              "    }\n",
              "    90% {\n",
              "      border-color: transparent;\n",
              "      border-bottom-color: var(--fill-color);\n",
              "    }\n",
              "  }\n",
              "</style>\n",
              "\n",
              "  <script>\n",
              "    async function quickchart(key) {\n",
              "      const quickchartButtonEl =\n",
              "        document.querySelector('#' + key + ' button');\n",
              "      quickchartButtonEl.disabled = true;  // To prevent multiple clicks.\n",
              "      quickchartButtonEl.classList.add('colab-df-spinner');\n",
              "      try {\n",
              "        const charts = await google.colab.kernel.invokeFunction(\n",
              "            'suggestCharts', [key], {});\n",
              "      } catch (error) {\n",
              "        console.error('Error during call to suggestCharts:', error);\n",
              "      }\n",
              "      quickchartButtonEl.classList.remove('colab-df-spinner');\n",
              "      quickchartButtonEl.classList.add('colab-df-quickchart-complete');\n",
              "    }\n",
              "    (() => {\n",
              "      let quickchartButtonEl =\n",
              "        document.querySelector('#df-3ff57414-2093-465c-8176-1bc63d0ceca0 button');\n",
              "      quickchartButtonEl.style.display =\n",
              "        google.colab.kernel.accessAllowed ? 'block' : 'none';\n",
              "    })();\n",
              "  </script>\n",
              "</div>\n",
              "\n",
              "    </div>\n",
              "  </div>\n"
            ],
            "application/vnd.google.colaboratory.intrinsic+json": {
              "type": "dataframe",
              "variable_name": "df_bitcoin",
              "summary": "{\n  \"name\": \"df_bitcoin\",\n  \"rows\": 1807,\n  \"fields\": [\n    {\n      \"column\": \"Datetime\",\n      \"properties\": {\n        \"dtype\": \"date\",\n        \"min\": \"2024-03-20 00:00:00+00:00\",\n        \"max\": \"2024-03-26 06:30:00+00:00\",\n        \"num_unique_values\": 1807,\n        \"samples\": [\n          \"2024-03-24 18:00:00+00:00\",\n          \"2024-03-20 05:25:00+00:00\",\n          \"2024-03-22 10:20:00+00:00\"\n        ],\n        \"semantic_type\": \"\",\n        \"description\": \"\"\n      }\n    },\n    {\n      \"column\": \"Open\",\n      \"properties\": {\n        \"dtype\": \"number\",\n        \"std\": 2156.857806911767,\n        \"min\": 60963.3515625,\n        \"max\": 70993.609375,\n        \"num_unique_values\": 1805,\n        \"samples\": [\n          70912.5859375,\n          60976.06640625,\n          65238.75390625\n        ],\n        \"semantic_type\": \"\",\n        \"description\": \"\"\n      }\n    },\n    {\n      \"column\": \"High\",\n      \"properties\": {\n        \"dtype\": \"number\",\n        \"std\": 2151.2419495436493,\n        \"min\": 60982.7734375,\n        \"max\": 71162.59375,\n        \"num_unique_values\": 1807,\n        \"samples\": [\n          65413.71484375,\n          60982.7734375,\n          65254.5546875\n        ],\n        \"semantic_type\": \"\",\n        \"description\": \"\"\n      }\n    },\n    {\n      \"column\": \"Low\",\n      \"properties\": {\n        \"dtype\": \"number\",\n        \"std\": 2163.099267583268,\n        \"min\": 60872.67578125,\n        \"max\": 70960.8828125,\n        \"num_unique_values\": 1806,\n        \"samples\": [\n          65420.109375,\n          60872.67578125,\n          65085.45703125\n        ],\n        \"semantic_type\": \"\",\n        \"description\": \"\"\n      }\n    },\n    {\n      \"column\": \"Close\",\n      \"properties\": {\n        \"dtype\": \"number\",\n        \"std\": 2157.266227835244,\n        \"min\": 60909.16015625,\n        \"max\": 71002.9375,\n        \"num_unique_values\": 1807,\n        \"samples\": [\n          65413.71484375,\n          60909.16015625,\n          65085.45703125\n        ],\n        \"semantic_type\": \"\",\n        \"description\": \"\"\n      }\n    },\n    {\n      \"column\": \"Adj Close\",\n      \"properties\": {\n        \"dtype\": \"number\",\n        \"std\": 2157.266227835244,\n        \"min\": 60909.16015625,\n        \"max\": 71002.9375,\n        \"num_unique_values\": 1807,\n        \"samples\": [\n          65413.71484375,\n          60909.16015625,\n          65085.45703125\n        ],\n        \"semantic_type\": \"\",\n        \"description\": \"\"\n      }\n    },\n    {\n      \"column\": \"Volume\",\n      \"properties\": {\n        \"dtype\": \"number\",\n        \"std\": 68421107,\n        \"min\": 0,\n        \"max\": 763154432,\n        \"num_unique_values\": 772,\n        \"samples\": [\n          8923136,\n          35201024,\n          12400640\n        ],\n        \"semantic_type\": \"\",\n        \"description\": \"\"\n      }\n    }\n  ]\n}"
            }
          },
          "metadata": {},
          "execution_count": 4
        }
      ]
    },
    {
      "cell_type": "markdown",
      "source": [
        "## **2.2 Extrayendo precio actual y tendencia del Bitcoin.**"
      ],
      "metadata": {
        "id": "Im8dTzSYNUOa"
      }
    },
    {
      "cell_type": "code",
      "source": [
        "def extraer_tendencias():\n",
        "  global precio_actual, tendencia\n",
        "  url = 'https://coinmarketcap.com/'\n",
        "  respuesta = requests.get(url)\n",
        "\n",
        "  #Verificando que la busquedad fue un exito\n",
        "  if respuesta.status_code == 200:\n",
        "    s = BeautifulSoup(respuesta.content, 'lxml')\n",
        "\n",
        "    #Obteniendo los span de la primera fila de la tabla de coinmarketcap.com\n",
        "    html_row = s.findAll(\"tr\")\n",
        "    html_row = html_row[1]\n",
        "    elementos = html_row.findAll(\"span\")\n",
        "\n",
        "    #Obteniendo el precio actual del Bitcoin en USD\n",
        "    precio_actual = float(elementos[2].text.replace('$', '').replace(',',''))\n",
        "\n",
        "    #Obteniendo  la tendencia\n",
        "    if elementos[3].next.attrs['class'][0] == \"icon-Caret-up\":\n",
        "      tendencia = 'Alta'\n",
        "    else:\n",
        "      tendencia = 'Baja'\n",
        "\n",
        "  else:\n",
        "    print(\"Error al cargar la página de CoinMarketCap\")"
      ],
      "metadata": {
        "id": "oxat6DUmrqL1"
      },
      "execution_count": 5,
      "outputs": []
    },
    {
      "cell_type": "code",
      "source": [
        "extraer_tendencias()\n",
        "print(f'Precio Actual: ${precio_actual} USD')\n",
        "print(f'Tendencia: {tendencia}')"
      ],
      "metadata": {
        "colab": {
          "base_uri": "https://localhost:8080/"
        },
        "id": "UxQfd4jKPtW6",
        "outputId": "835db58f-aa6e-4378-de06-3e584c9ac766"
      },
      "execution_count": 6,
      "outputs": [
        {
          "output_type": "stream",
          "name": "stdout",
          "text": [
            "Precio Actual: $70551.3 USD\n",
            "Tendencia: Alta\n"
          ]
        }
      ]
    },
    {
      "cell_type": "markdown",
      "source": [
        "# **3. Limpieza de datos**"
      ],
      "metadata": {
        "id": "YumS77qUSKb4"
      }
    },
    {
      "cell_type": "markdown",
      "source": [
        "## **3.1 Análisis antes de la limpieza de datos**"
      ],
      "metadata": {
        "id": "-g6DUhF0ZOy9"
      }
    },
    {
      "cell_type": "code",
      "source": [
        "# Creando copia del dataframe bitcoin\n",
        "global df_bitcoin_limpio\n",
        "df_bitcoin.drop('Adj Close', axis =1, inplace=True)\n",
        "df_bitcoin_limpio = df_bitcoin.copy()"
      ],
      "metadata": {
        "id": "F087-oSj5DXt"
      },
      "execution_count": 55,
      "outputs": []
    },
    {
      "cell_type": "code",
      "source": [
        "def analisis():\n",
        "  global df_bitcoin_limpio\n",
        "  indices_repetidos = df_bitcoin_limpio.duplicated().sum()\n",
        "  valores_nulos_close = 'Si' if df_bitcoin_limpio.Close.isna().any() == True else \"No\"\n",
        "  registros_cero = df_bitcoin_limpio.Volume[df_bitcoin_limpio.Volume <= 0].count()\n",
        "\n",
        "  print(f'Existen {indices_repetidos} indices repetidos.')\n",
        "  print(f'Existen valores nulos en la columna \"Close\": {valores_nulos_close}')\n",
        "  print(f'Registros que tengan registros Volume de transacción menor o igual a cero: {registros_cero}')\n",
        "analisis()"
      ],
      "metadata": {
        "colab": {
          "base_uri": "https://localhost:8080/"
        },
        "id": "WDrNWSOc5mCO",
        "outputId": "a8f635de-628c-471d-aff8-ef37f4b1372d"
      },
      "execution_count": 56,
      "outputs": [
        {
          "output_type": "stream",
          "name": "stdout",
          "text": [
            "Existen 0 indices repetidos\n",
            "Existen valores nulos en la columna \"Close\": No\n",
            "Registros que tengan registros Volume de transacción menor o igual a cero: 1033\n"
          ]
        }
      ]
    },
    {
      "cell_type": "code",
      "source": [
        "df_bitcoin_limpio.info()"
      ],
      "metadata": {
        "colab": {
          "base_uri": "https://localhost:8080/"
        },
        "id": "pPerkQiHeUUV",
        "outputId": "1b849ae8-91fc-4990-f9b9-671f6bc71206"
      },
      "execution_count": 57,
      "outputs": [
        {
          "output_type": "stream",
          "name": "stdout",
          "text": [
            "<class 'pandas.core.frame.DataFrame'>\n",
            "DatetimeIndex: 1807 entries, 2024-03-20 00:00:00+00:00 to 2024-03-26 06:30:00+00:00\n",
            "Data columns (total 5 columns):\n",
            " #   Column  Non-Null Count  Dtype  \n",
            "---  ------  --------------  -----  \n",
            " 0   Open    1807 non-null   float64\n",
            " 1   High    1807 non-null   float64\n",
            " 2   Low     1807 non-null   float64\n",
            " 3   Close   1807 non-null   float64\n",
            " 4   Volume  1807 non-null   int64  \n",
            "dtypes: float64(4), int64(1)\n",
            "memory usage: 84.7 KB\n"
          ]
        }
      ]
    },
    {
      "cell_type": "code",
      "source": [
        "df_bitcoin_limpio.boxplot('Close');"
      ],
      "metadata": {
        "colab": {
          "base_uri": "https://localhost:8080/",
          "height": 430
        },
        "id": "w3Thd4w4f7nE",
        "outputId": "9ac52647-f334-485e-a48a-d7e36f5e0c93"
      },
      "execution_count": 59,
      "outputs": [
        {
          "output_type": "display_data",
          "data": {
            "text/plain": [
              "<Figure size 640x480 with 1 Axes>"
            ],
            "image/png": "[encoded data removed]"
          },
          "metadata": {}
        }
      ]
    },
    {
      "cell_type": "markdown",
      "source": [
        "## **3.2 Creación de la función que limpia la base de datos**"
      ],
      "metadata": {
        "id": "newb6p3L1zD4"
      }
    },
    {
      "cell_type": "code",
      "source": [
        "def limpieza_datos():\n",
        "  global df_bitcoin, media_bitcoin, df_bitcoin_limpio\n",
        "  #Creando una copia del dataframe original\n",
        "  df_bitcoin_limpio = df_bitcoin.copy()\n",
        "\n",
        "  # Eliminando valores respetidos del dataframe en caso de existir\n",
        "  df_bitcoin_limpio.drop_duplicates(inplace=True)\n",
        "\n",
        "  # Tratando los valores nulos de la columna close\n",
        "  valores_nulos = df_bitcoin.Close.isna().any()\n",
        "  if valores_nulos == True:\n",
        "    df_bitcoin_limpio.Close.fillna(method='ffill', inplace=True)\n",
        "\n",
        "  # Eliminado registros que tengan un Volume de transaccion igual cero\n",
        "  query = df_bitcoin_limpio.query('Volume <= 0').index\n",
        "  df_bitcoin_limpio.drop(query, axis = 0, inplace = True)\n",
        "\n",
        "  # Seleccionado registro de la columna Close que esten entre Q1 y Q3\n",
        "  Q1 = df_bitcoin_limpio.Close.quantile(0.25)\n",
        "  Q3 = df_bitcoin_limpio.Close.quantile(0.75)\n",
        "  # IIQ = Q3-Q1\n",
        "  df_bitcoin_limpio = df_bitcoin_limpio.query(f'Close > {Q1} & Close < {Q3}')\n",
        "\n",
        "  # Calculando la media con los datos ya filtrados.\n",
        "  media_bitcoin = df_bitcoin_limpio.Close.mean()\n",
        "  df_bitcoin\n",
        "\n",
        "limpieza_datos()"
      ],
      "metadata": {
        "id": "PwmH4SlvSaNu"
      },
      "execution_count": 65,
      "outputs": []
    },
    {
      "cell_type": "code",
      "source": [
        "analisis()"
      ],
      "metadata": {
        "id": "wRR2VwF7YVSt",
        "colab": {
          "base_uri": "https://localhost:8080/"
        },
        "outputId": "79c2185b-267b-413b-95b8-65d9e30dbadb"
      },
      "execution_count": 69,
      "outputs": [
        {
          "output_type": "stream",
          "name": "stdout",
          "text": [
            "Existen 0 indices repetidos\n",
            "Existen valores nulos en la columna \"Close\": No\n",
            "Registros que tengan registros Volume de transacción menor o igual a cero: 0\n"
          ]
        }
      ]
    }
  ]
}